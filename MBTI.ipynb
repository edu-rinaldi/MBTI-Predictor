{
  "nbformat": 4,
  "nbformat_minor": 0,
  "metadata": {
    "colab": {
      "name": "MBTI.ipynb",
      "provenance": [],
      "collapsed_sections": [
        "-zJnEqAcBFby",
        "kYruCVmQBRX0",
        "rIWPHKkpCDmu"
      ],
      "machine_shape": "hm"
    },
    "kernelspec": {
      "name": "python3",
      "display_name": "Python 3"
    }
  },
  "cells": [
    {
      "cell_type": "markdown",
      "metadata": {
        "id": "g6YW11TVA5Vm"
      },
      "source": [
        "# MBTI - 16 Personalities classifier\n",
        "**Author:** Eduardo Rinaldi\n",
        "\n",
        "**Author email:** rinaldi.1797800@studenti.uniroma1.it\n",
        "\n",
        "**Notebook info:** Big Data Computing (`@ Sapienza University of Rome, A.Y. 2020-2021`) course project\n",
        "\n"
      ]
    },
    {
      "cell_type": "markdown",
      "metadata": {
        "id": "ROFBByHFA-nf"
      },
      "source": [
        "# Introduction to the problem\n",
        "Design and implement a model that given a collection of \"posts\" as input returns the most suited **Myers-Briggs personality type indicator (MBTI)** for posts' author.\n",
        "\n",
        "## What is a **MBTI**\n",
        "The MBTI (Myers-Briggs Personality Type Indicator) divides everyone into **16 distinct personality** types across **4 axis**:\n",
        "\n",
        "* Introversion (**I**) – Extroversion (**E**)\n",
        "* Intuition (**N**) – Sensing (**S**)\n",
        "* Thinking (**T**) – Feeling (**F**)\n",
        "* Judging (**J**) – Perceiving (**P**)\n",
        "\n",
        "This system is used in: *businesses, online, for fun, for research and lots more*."
      ]
    },
    {
      "cell_type": "markdown",
      "metadata": {
        "id": "44UZSVBLBBG6"
      },
      "source": [
        "# Google Colab setup\n",
        "This part of code is needed if this notebook is \"hosted\" on a G. Colab's cluster.\n",
        "\n",
        "\n",
        "1.   Mount G. Drive\n",
        "2.   Downloading and configuring required libraries (PySpark, SparkNLP, Pandas, Numpy, Tweety, ...)\n",
        "\n"
      ]
    },
    {
      "cell_type": "code",
      "metadata": {
        "id": "Jgwd4vEWBBbw",
        "colab": {
          "base_uri": "https://localhost:8080/"
        },
        "outputId": "91ecb066-bad5-4614-d9da-2c81f9a92903"
      },
      "source": [
        "# Mounting Drive\n",
        "import colab_env\n",
        "from google.colab import drive\n",
        "MOUNT_DIR = '/content/drive/'\n",
        "drive.mount(MOUNT_DIR, force_remount=True)\n",
        "\n",
        "# Some constants\n",
        "USING_COLAB = True"
      ],
      "execution_count": 130,
      "outputs": [
        {
          "output_type": "stream",
          "text": [
            "Mounted at /content/drive/\n"
          ],
          "name": "stdout"
        }
      ]
    },
    {
      "cell_type": "code",
      "metadata": {
        "colab": {
          "base_uri": "https://localhost:8080/"
        },
        "id": "6CJ27-QVBDxj",
        "outputId": "439a4bac-07c8-4f3b-a60d-177e74764f46"
      },
      "source": [
        "!wget http://setup.johnsnowlabs.com/colab.sh -O - | bash\n",
        "!pip install pandas\n",
        "!pip install matplotlib\n",
        "!pip install git+https://github.com/tweepy/tweepy.git\n",
        "!pip install colab-env"
      ],
      "execution_count": 2,
      "outputs": [
        {
          "output_type": "stream",
          "text": [
            "--2021-07-04 12:20:06--  http://setup.johnsnowlabs.com/colab.sh\n",
            "Resolving setup.johnsnowlabs.com (setup.johnsnowlabs.com)... 51.158.130.125\n",
            "Connecting to setup.johnsnowlabs.com (setup.johnsnowlabs.com)|51.158.130.125|:80... connected.\n",
            "HTTP request sent, awaiting response... 302 Moved Temporarily\n",
            "Location: https://raw.githubusercontent.com/JohnSnowLabs/spark-nlp/master/scripts/colab_setup.sh [following]\n",
            "--2021-07-04 12:20:07--  https://raw.githubusercontent.com/JohnSnowLabs/spark-nlp/master/scripts/colab_setup.sh\n",
            "Resolving raw.githubusercontent.com (raw.githubusercontent.com)... 185.199.108.133, 185.199.109.133, 185.199.110.133, ...\n",
            "Connecting to raw.githubusercontent.com (raw.githubusercontent.com)|185.199.108.133|:443... connected.\n",
            "HTTP request sent, awaiting response... 200 OK\n",
            "Length: 1608 (1.6K) [text/plain]\n",
            "Saving to: ‘STDOUT’\n",
            "\n",
            "-                   100%[===================>]   1.57K  --.-KB/s    in 0s      \n",
            "\n",
            "2021-07-04 12:20:07 (44.9 MB/s) - written to stdout [1608/1608]\n",
            "\n",
            "setup Colab for PySpark 3.0.3 and Spark NLP 3.1.1\n",
            "Get:1 https://cloud.r-project.org/bin/linux/ubuntu bionic-cran40/ InRelease [3,626 B]\n",
            "Ign:2 https://developer.download.nvidia.com/compute/cuda/repos/ubuntu1804/x86_64  InRelease\n",
            "Get:3 http://security.ubuntu.com/ubuntu bionic-security InRelease [88.7 kB]\n",
            "Ign:4 https://developer.download.nvidia.com/compute/machine-learning/repos/ubuntu1804/x86_64  InRelease\n",
            "Get:5 https://developer.download.nvidia.com/compute/cuda/repos/ubuntu1804/x86_64  Release [697 B]\n",
            "Hit:6 https://developer.download.nvidia.com/compute/machine-learning/repos/ubuntu1804/x86_64  Release\n",
            "Get:7 http://ppa.launchpad.net/c2d4u.team/c2d4u4.0+/ubuntu bionic InRelease [15.9 kB]\n",
            "Get:8 https://developer.download.nvidia.com/compute/cuda/repos/ubuntu1804/x86_64  Release.gpg [836 B]\n",
            "Hit:9 http://archive.ubuntu.com/ubuntu bionic InRelease\n",
            "Get:11 http://archive.ubuntu.com/ubuntu bionic-updates InRelease [88.7 kB]\n",
            "Ign:12 https://developer.download.nvidia.com/compute/cuda/repos/ubuntu1804/x86_64  Packages\n",
            "Get:12 https://developer.download.nvidia.com/compute/cuda/repos/ubuntu1804/x86_64  Packages [634 kB]\n",
            "Hit:13 http://ppa.launchpad.net/cran/libgit2/ubuntu bionic InRelease\n",
            "Get:14 http://ppa.launchpad.net/deadsnakes/ppa/ubuntu bionic InRelease [15.9 kB]\n",
            "Get:15 http://archive.ubuntu.com/ubuntu bionic-backports InRelease [74.6 kB]\n",
            "Get:16 http://security.ubuntu.com/ubuntu bionic-security/restricted amd64 Packages [473 kB]\n",
            "Get:17 http://archive.ubuntu.com/ubuntu bionic-updates/universe amd64 Packages [2,188 kB]\n",
            "Get:18 http://ppa.launchpad.net/graphics-drivers/ppa/ubuntu bionic InRelease [21.3 kB]\n",
            "Get:19 http://security.ubuntu.com/ubuntu bionic-security/universe amd64 Packages [1,418 kB]\n",
            "Get:20 http://security.ubuntu.com/ubuntu bionic-security/main amd64 Packages [2,221 kB]\n",
            "Get:21 http://ppa.launchpad.net/c2d4u.team/c2d4u4.0+/ubuntu bionic/main Sources [1,779 kB]\n",
            "Get:22 http://archive.ubuntu.com/ubuntu bionic-updates/main amd64 Packages [2,657 kB]\n",
            "Get:23 http://archive.ubuntu.com/ubuntu bionic-updates/restricted amd64 Packages [506 kB]\n",
            "Get:24 http://ppa.launchpad.net/c2d4u.team/c2d4u4.0+/ubuntu bionic/main amd64 Packages [910 kB]\n",
            "Get:25 http://ppa.launchpad.net/deadsnakes/ppa/ubuntu bionic/main amd64 Packages [40.8 kB]\n",
            "Get:26 http://ppa.launchpad.net/graphics-drivers/ppa/ubuntu bionic/main amd64 Packages [41.5 kB]\n",
            "Fetched 13.2 MB in 8s (1,610 kB/s)\n",
            "Reading package lists... Done\n",
            "\u001b[K     |████████████████████████████████| 209.1MB 18kB/s \n",
            "\u001b[K     |████████████████████████████████| 51kB 5.5MB/s \n",
            "\u001b[K     |████████████████████████████████| 204kB 57.7MB/s \n",
            "\u001b[?25h  Building wheel for pyspark (setup.py) ... \u001b[?25l\u001b[?25hdone\n",
            "Requirement already satisfied: pandas in /usr/local/lib/python3.7/dist-packages (1.1.5)\n",
            "Requirement already satisfied: numpy>=1.15.4 in /usr/local/lib/python3.7/dist-packages (from pandas) (1.19.5)\n",
            "Requirement already satisfied: pytz>=2017.2 in /usr/local/lib/python3.7/dist-packages (from pandas) (2018.9)\n",
            "Requirement already satisfied: python-dateutil>=2.7.3 in /usr/local/lib/python3.7/dist-packages (from pandas) (2.8.1)\n",
            "Requirement already satisfied: six>=1.5 in /usr/local/lib/python3.7/dist-packages (from python-dateutil>=2.7.3->pandas) (1.15.0)\n",
            "Requirement already satisfied: matplotlib in /usr/local/lib/python3.7/dist-packages (3.2.2)\n",
            "Requirement already satisfied: numpy>=1.11 in /usr/local/lib/python3.7/dist-packages (from matplotlib) (1.19.5)\n",
            "Requirement already satisfied: python-dateutil>=2.1 in /usr/local/lib/python3.7/dist-packages (from matplotlib) (2.8.1)\n",
            "Requirement already satisfied: pyparsing!=2.0.4,!=2.1.2,!=2.1.6,>=2.0.1 in /usr/local/lib/python3.7/dist-packages (from matplotlib) (2.4.7)\n",
            "Requirement already satisfied: kiwisolver>=1.0.1 in /usr/local/lib/python3.7/dist-packages (from matplotlib) (1.3.1)\n",
            "Requirement already satisfied: cycler>=0.10 in /usr/local/lib/python3.7/dist-packages (from matplotlib) (0.10.0)\n",
            "Requirement already satisfied: six>=1.5 in /usr/local/lib/python3.7/dist-packages (from python-dateutil>=2.1->matplotlib) (1.15.0)\n",
            "Collecting git+https://github.com/tweepy/tweepy.git\n",
            "  Cloning https://github.com/tweepy/tweepy.git to /tmp/pip-req-build-ldwhe_or\n",
            "  Running command git clone -q https://github.com/tweepy/tweepy.git /tmp/pip-req-build-ldwhe_or\n",
            "Requirement already satisfied: requests<3,>=2.11.1 in /usr/local/lib/python3.7/dist-packages (from tweepy==4.0.0a0) (2.23.0)\n",
            "Requirement already satisfied: requests_oauthlib<2,>=1.0.0 in /usr/local/lib/python3.7/dist-packages (from tweepy==4.0.0a0) (1.3.0)\n",
            "Requirement already satisfied: urllib3!=1.25.0,!=1.25.1,<1.26,>=1.21.1 in /usr/local/lib/python3.7/dist-packages (from requests<3,>=2.11.1->tweepy==4.0.0a0) (1.24.3)\n",
            "Requirement already satisfied: chardet<4,>=3.0.2 in /usr/local/lib/python3.7/dist-packages (from requests<3,>=2.11.1->tweepy==4.0.0a0) (3.0.4)\n",
            "Requirement already satisfied: certifi>=2017.4.17 in /usr/local/lib/python3.7/dist-packages (from requests<3,>=2.11.1->tweepy==4.0.0a0) (2021.5.30)\n",
            "Requirement already satisfied: idna<3,>=2.5 in /usr/local/lib/python3.7/dist-packages (from requests<3,>=2.11.1->tweepy==4.0.0a0) (2.10)\n",
            "Requirement already satisfied: oauthlib>=3.0.0 in /usr/local/lib/python3.7/dist-packages (from requests_oauthlib<2,>=1.0.0->tweepy==4.0.0a0) (3.1.1)\n",
            "Building wheels for collected packages: tweepy\n",
            "  Building wheel for tweepy (setup.py) ... \u001b[?25l\u001b[?25hdone\n",
            "  Created wheel for tweepy: filename=tweepy-4.0.0a0-py2.py3-none-any.whl size=59145 sha256=c6aafcd32b461a3ee3895a60fb24ae339bc256a61ef1ffcdc63fbf01df847157\n",
            "  Stored in directory: /tmp/pip-ephem-wheel-cache-glf91en1/wheels/d8/ce/e1/639ea9fcdbdb5affae832e0c6692ce6dafae3fdf1fdd40ec93\n",
            "Successfully built tweepy\n",
            "Installing collected packages: tweepy\n",
            "  Found existing installation: tweepy 3.10.0\n",
            "    Uninstalling tweepy-3.10.0:\n",
            "      Successfully uninstalled tweepy-3.10.0\n",
            "Successfully installed tweepy-4.0.0a0\n"
          ],
          "name": "stdout"
        }
      ]
    },
    {
      "cell_type": "markdown",
      "metadata": {
        "id": "-zJnEqAcBFby"
      },
      "source": [
        "# Databricks setup\n",
        "\n",
        "This part of code is needed if this notebook is \"hosted\" on a Databricks' cluster.\n",
        "\n",
        "1.   Just setting a boolean flag so that from now on we know if we're on Colab or Databricks\n",
        "2. You need to go on `Cluster settings` and:\n",
        "  *   Install through *PyPI* `spark-nlp==3.1.0`\n",
        "  *   Add `com.johnsnowlabs.nlp:spark-nlp_2.12:3.1.0` to *Maven*\n",
        "\n",
        "\n",
        "\n",
        "\n",
        "\n",
        "\n",
        "\n"
      ]
    },
    {
      "cell_type": "code",
      "metadata": {
        "id": "SeTj0FnMBGuf"
      },
      "source": [
        "USING_COLAB = False"
      ],
      "execution_count": null,
      "outputs": []
    },
    {
      "cell_type": "markdown",
      "metadata": {
        "id": "FbR8sBUBBIb8"
      },
      "source": [
        "# Importing Spark (and other things)"
      ]
    },
    {
      "cell_type": "code",
      "metadata": {
        "colab": {
          "base_uri": "https://localhost:8080/",
          "height": 216
        },
        "id": "gLfnyj5nBJnS",
        "outputId": "8893ea4d-10e3-4038-b496-9f7ce002f691"
      },
      "source": [
        "import pandas as pd\n",
        "import numpy as np\n",
        "\n",
        "# Matplotlib, plt and cm modules\n",
        "import matplotlib.pyplot as plt\n",
        "import matplotlib.cm as cm\n",
        "\n",
        "# Seaborn for plotting\n",
        "import seaborn as sns\n",
        "\n",
        "# Pritty print\n",
        "from pprint import pprint\n",
        "\n",
        "# Twitter API\n",
        "import tweepy\n",
        "\n",
        "# for reading .env vars\n",
        "import os\n",
        "\n",
        "# PySpark\n",
        "import pyspark\n",
        "from pyspark.sql import *\n",
        "from pyspark.sql.types import *\n",
        "from pyspark.sql.functions import *\n",
        "from pyspark import SparkContext, SparkConf\n",
        "\n",
        "# SparkNLP, use for text cleaning\n",
        "import sparknlp\n",
        "from sparknlp.base import *\n",
        "from sparknlp.annotator import *              \n",
        "from sparknlp.pretrained import *\n",
        "\n",
        "spark = sparknlp.start()\n",
        "spark"
      ],
      "execution_count": 3,
      "outputs": [
        {
          "output_type": "execute_result",
          "data": {
            "text/html": [
              "\n",
              "            <div>\n",
              "                <p><b>SparkSession - in-memory</b></p>\n",
              "                \n",
              "        <div>\n",
              "            <p><b>SparkContext</b></p>\n",
              "\n",
              "            <p><a href=\"http://6d69855539a0:4040\">Spark UI</a></p>\n",
              "\n",
              "            <dl>\n",
              "              <dt>Version</dt>\n",
              "                <dd><code>v3.0.3</code></dd>\n",
              "              <dt>Master</dt>\n",
              "                <dd><code>local[*]</code></dd>\n",
              "              <dt>AppName</dt>\n",
              "                <dd><code>Spark NLP</code></dd>\n",
              "            </dl>\n",
              "        </div>\n",
              "        \n",
              "            </div>\n",
              "        "
            ],
            "text/plain": [
              "<pyspark.sql.session.SparkSession at 0x7f1a8f757b50>"
            ]
          },
          "metadata": {
            "tags": []
          },
          "execution_count": 3
        }
      ]
    },
    {
      "cell_type": "code",
      "metadata": {
        "id": "9dvr5GQ1KHU9"
      },
      "source": [
        "PRETRAINED_MODELS_PATH = '/content/drive/MyDrive/PretrainedModels/' if USING_COLAB else 'dbfs:/FileStore/PretrainedModels/'\n",
        "\n",
        "# Text cleaning pipeline model\n",
        "USE_PRETRAINED_TC_PIPELINE = True\n",
        "PRETRAINED_TC_PIPELINE_NAME = 'tc_pipeline_202107041409'\n",
        "\n",
        "# Feature Extraction Pipeline Model\n",
        "USE_PRETRAINED_FE_PIPELINE = True\n",
        "PRETRAINED_FE_PIPELINE_NAME = 'cv0.01_idf_pca100_202106291739'\n",
        "\n",
        "# ML Pipeline Models\n",
        "USE_PRETRAINED_ML_PIPELINE = True\n",
        "# Naive Bayes\n",
        "PRETRAINED_NB_PIPELINE_NAMES = {\n",
        "    'ie': 'nb_ie_modelTypemultinomial_202107031037',\n",
        "    'ns': 'nb_ns_modelTypemultinomial_202107031037',\n",
        "    'tf': 'nb_tf_modelTypemultinomial_202107031037',\n",
        "    'pj': 'nb_pj_modelTypemultinomial_202107031037'\n",
        "}\n",
        "# Linear SVC\n",
        "PRETRAINED_SVC_PIPELINE_NAMES = {\n",
        "    'ie': 'svc_ie_maxIter10_regParam0.0001_202107031050',\n",
        "    'ns': 'svc_ns_maxIter10_regParam0.0001_202107031102',\n",
        "    'tf': 'svc_tf_maxIter10_regParam0.0001_202107031114',\n",
        "    'pj': 'svc_pj_maxIter10_regParam0.0001_202107031126'\n",
        "}\n",
        "# Logistic Regression\n",
        "PRETRAINED_LR_PIPELINE_NAMES = {\n",
        "    'ie': 'lr_ie_maxIter10_regParam0.0001_elasticNetParam0.0_202107031200',\n",
        "    'ns': 'lr_ns_maxIter10_regParam0.0001_elasticNetParam0.25_202107031215',\n",
        "    'tf': 'lr_tf_maxIter100_regParam0.01_elasticNetParam0.0_202107031229',\n",
        "    'pj': 'lr_pj_maxIter100_regParam0.0001_elasticNetParam0.0_202107031244'\n",
        "}\n",
        "# Neural Network\n",
        "PRETRAINED_NN_PIPELINE_NAMES = {\n",
        "    'ie': 'nn_ie_maxIter100_stepSize0.001_solverl-bfgs_202107040909',\n",
        "    'ns': 'nn_ns_maxIter100_stepSize0.001_solverl-bfgs_202107040933',\n",
        "    'tf': 'nn_tf_maxIter10_stepSize0.03_solverl-bfgs_202107040957',\n",
        "    'pj': 'nn_pj_maxIter100_stepSize0.01_solverl-bfgs_202107041020'\n",
        "}\n",
        "\n",
        "# Final model\n",
        "USE_PRETRAINED_FINAL_PIPELINE = True\n",
        "PRETRAINED_FINAL_PIPELINE = 'final_pipeline_202107041304'"
      ],
      "execution_count": 146,
      "outputs": []
    },
    {
      "cell_type": "markdown",
      "metadata": {
        "id": "vKRlZQkABMEq"
      },
      "source": [
        "# MBTI Dataset"
      ]
    },
    {
      "cell_type": "markdown",
      "metadata": {
        "id": "WDYS9562BOk1"
      },
      "source": [
        "## Downloading the dataset onto the cluster\n",
        "\n",
        "I hosted the dataset on my [github](https://github.com/edu-rinaldi/MBTI-Predictor/blob/main/dataset/mbti_1.csv.zip), so that I and whoever want to train a different model can download it in an easier way."
      ]
    },
    {
      "cell_type": "markdown",
      "metadata": {
        "id": "kYruCVmQBRX0"
      },
      "source": [
        "### **Databricks** procedure\n",
        "Use this part of code **only** if you're on Databricks"
      ]
    },
    {
      "cell_type": "code",
      "metadata": {
        "id": "JLrWGgNtBPFw"
      },
      "source": [
        "%sh wget -P /tmp https://github.com/edu-rinaldi/MBTI-Predictor/raw/main/dataset/mbti_1.csv"
      ],
      "execution_count": null,
      "outputs": []
    },
    {
      "cell_type": "markdown",
      "metadata": {
        "id": "GbMfUgygBTqx"
      },
      "source": [
        "Moving dataset to DBFS"
      ]
    },
    {
      "cell_type": "code",
      "metadata": {
        "id": "PrykHRP-BUPR"
      },
      "source": [
        "dbutils.fs.mv(\"file:/tmp/mbti_1.csv\", \"/FileStore/datasets/\")\n",
        "MBTI_DATASET_PATH = \"dbfs:/FileStore/datasets/mbti_1.csv\""
      ],
      "execution_count": null,
      "outputs": []
    },
    {
      "cell_type": "markdown",
      "metadata": {
        "id": "nOEMKarcBVrJ"
      },
      "source": [
        "### **Google Colab** procedure\n",
        "Use this part of code **only** if you're on Colab"
      ]
    },
    {
      "cell_type": "code",
      "metadata": {
        "colab": {
          "base_uri": "https://localhost:8080/"
        },
        "id": "8kORMdxIBW_K",
        "outputId": "8a09accd-dd19-4f89-e0a2-17182db8e92f"
      },
      "source": [
        "!wget -P /content/drive/MyDrive/datasets/ https://github.com/edu-rinaldi/MBTI-Predictor/raw/main/dataset/mbti_1.csv"
      ],
      "execution_count": null,
      "outputs": [
        {
          "output_type": "stream",
          "text": [
            "--2021-07-01 07:52:56--  https://github.com/edu-rinaldi/MBTI-Predictor/raw/main/dataset/mbti_1.csv\n",
            "Resolving github.com (github.com)... 140.82.113.4\n",
            "Connecting to github.com (github.com)|140.82.113.4|:443... connected.\n",
            "HTTP request sent, awaiting response... 302 Found\n",
            "Location: https://raw.githubusercontent.com/edu-rinaldi/MBTI-Predictor/main/dataset/mbti_1.csv [following]\n",
            "--2021-07-01 07:52:56--  https://raw.githubusercontent.com/edu-rinaldi/MBTI-Predictor/main/dataset/mbti_1.csv\n",
            "Resolving raw.githubusercontent.com (raw.githubusercontent.com)... 185.199.108.133, 185.199.109.133, 185.199.110.133, ...\n",
            "Connecting to raw.githubusercontent.com (raw.githubusercontent.com)|185.199.108.133|:443... connected.\n",
            "HTTP request sent, awaiting response... 200 OK\n",
            "Length: 62856486 (60M) [text/plain]\n",
            "Saving to: ‘/content/drive/MyDrive/datasets/mbti_1.csv.1’\n",
            "\n",
            "mbti_1.csv.1        100%[===================>]  59.94M  63.6MB/s    in 0.9s    \n",
            "\n",
            "2021-07-01 07:52:57 (63.6 MB/s) - ‘/content/drive/MyDrive/datasets/mbti_1.csv.1’ saved [62856486/62856486]\n",
            "\n"
          ],
          "name": "stdout"
        }
      ]
    },
    {
      "cell_type": "code",
      "metadata": {
        "id": "9OOesfziBYNm"
      },
      "source": [
        "MBTI_DATASET_PATH = \"/content/drive/MyDrive/datasets/mbti_1.csv\""
      ],
      "execution_count": 5,
      "outputs": []
    },
    {
      "cell_type": "markdown",
      "metadata": {
        "id": "PZuRdU4PBZuH"
      },
      "source": [
        "## Initial dataset analysis\n",
        "\n",
        "Now that we have downloaded the dataset, let's read it and analyze it"
      ]
    },
    {
      "cell_type": "code",
      "metadata": {
        "colab": {
          "base_uri": "https://localhost:8080/"
        },
        "id": "TeOwqCYxBaOF",
        "outputId": "07da5be1-d05f-4cf2-d971-abf6daab4b15"
      },
      "source": [
        "mbti_df = spark.read.load(MBTI_DATASET_PATH, format=\"csv\", sep=\",\", inferSchema=\"true\", header=\"true\")\n",
        "print(f\"The dataset is composed by {len(mbti_df.columns)} columns and {mbti_df.count()} entries/records\")\n",
        "mbti_df.show()"
      ],
      "execution_count": 6,
      "outputs": [
        {
          "output_type": "stream",
          "text": [
            "The dataset is composed by 2 columns and 8675 entries/records\n",
            "+----+--------------------+\n",
            "|type|               posts|\n",
            "+----+--------------------+\n",
            "|INFJ|'http://www.youtu...|\n",
            "|ENTP|'I'm finding the ...|\n",
            "|INTP|'Good one  _____ ...|\n",
            "|INTJ|'Dear INTP,   I e...|\n",
            "|ENTJ|'You're fired.|||...|\n",
            "|INTJ|'18/37 @.@|||Scie...|\n",
            "|INFJ|'No, I can't draw...|\n",
            "|INTJ|'I tend to build ...|\n",
            "|INFJ|I'm not sure, tha...|\n",
            "|INTP|'https://www.yout...|\n",
            "|INFJ|'One time my pare...|\n",
            "|ENFJ|'https://www.yout...|\n",
            "|INFJ|'Joe santagato - ...|\n",
            "|INTJ|'Fair enough, if ...|\n",
            "|INTP|'Basically this.....|\n",
            "|INTP|'Your comment scr...|\n",
            "|INFJ|'some of these bo...|\n",
            "|INFP|'I think we do ag...|\n",
            "|INFJ|'I fully believe ...|\n",
            "|INFP|'That's normal, i...|\n",
            "+----+--------------------+\n",
            "only showing top 20 rows\n",
            "\n"
          ],
          "name": "stdout"
        }
      ]
    },
    {
      "cell_type": "markdown",
      "metadata": {
        "id": "tmMrkXbtBcoz"
      },
      "source": [
        "### Description of the dataset\n",
        "This **dataset** contains over **8600 rows of data**, and on each row contains:\n",
        "* **Type**: 4 letter MBTI code/type\n",
        "* **Posts**: A section of each of the last 50 things they have posted (Each entry separated by \"|||\" (3 pipe characters))\n",
        "\n",
        "So after splitting each post we will have about **430k rows**. \n",
        "\n",
        "**Acknowledgements:**\n",
        "This data was collected through the PersonalityCafe forum, as it provides a large selection of people and their MBTI personality type, as well as what they have written."
      ]
    },
    {
      "cell_type": "markdown",
      "metadata": {
        "id": "iGzIU3pvBhCf"
      },
      "source": [
        "### Renaming 'posts' column => 'post' AND lowering 'type' column"
      ]
    },
    {
      "cell_type": "code",
      "metadata": {
        "colab": {
          "base_uri": "https://localhost:8080/"
        },
        "id": "3zynVlp4BhZh",
        "outputId": "e5fb542c-170a-48cf-e409-3c5aa54dbc46"
      },
      "source": [
        "#mbti_splitted_df = mbti_df.select(explode(split(\"posts\", \"\\|\\|\\|\")).alias(\"post\"), lower(\"type\").alias(\"type\"))\n",
        "mbti_splitted_df = mbti_df.withColumnRenamed('posts', 'post').withColumn('type', lower(\"type\"))\n",
        "mbti_splitted_df.show()"
      ],
      "execution_count": 7,
      "outputs": [
        {
          "output_type": "stream",
          "text": [
            "+----+--------------------+\n",
            "|type|                post|\n",
            "+----+--------------------+\n",
            "|infj|'http://www.youtu...|\n",
            "|entp|'I'm finding the ...|\n",
            "|intp|'Good one  _____ ...|\n",
            "|intj|'Dear INTP,   I e...|\n",
            "|entj|'You're fired.|||...|\n",
            "|intj|'18/37 @.@|||Scie...|\n",
            "|infj|'No, I can't draw...|\n",
            "|intj|'I tend to build ...|\n",
            "|infj|I'm not sure, tha...|\n",
            "|intp|'https://www.yout...|\n",
            "|infj|'One time my pare...|\n",
            "|enfj|'https://www.yout...|\n",
            "|infj|'Joe santagato - ...|\n",
            "|intj|'Fair enough, if ...|\n",
            "|intp|'Basically this.....|\n",
            "|intp|'Your comment scr...|\n",
            "|infj|'some of these bo...|\n",
            "|infp|'I think we do ag...|\n",
            "|infj|'I fully believe ...|\n",
            "|infp|'That's normal, i...|\n",
            "+----+--------------------+\n",
            "only showing top 20 rows\n",
            "\n"
          ],
          "name": "stdout"
        }
      ]
    },
    {
      "cell_type": "markdown",
      "metadata": {
        "id": "mWT67CxCBkaL"
      },
      "source": [
        "## Are we dealing with a (Un)balanced Dataset ? \n",
        "One of the first things to check is the \"density\" of each class. \n",
        "A balanced dataset makes things easier.."
      ]
    },
    {
      "cell_type": "markdown",
      "metadata": {
        "id": "TRmEZyLyBlVQ"
      },
      "source": [
        "### Counting records for each class"
      ]
    },
    {
      "cell_type": "code",
      "metadata": {
        "id": "PY78DM4WBpEL"
      },
      "source": [
        "def count_class_instances(df, labelCol, toPandas=True):\n",
        "  counted_df = df.select(labelCol).groupBy(labelCol).count().sort(labelCol)\n",
        "  return counted_df.toPandas() if toPandas else counted_df"
      ],
      "execution_count": 8,
      "outputs": []
    },
    {
      "cell_type": "code",
      "metadata": {
        "colab": {
          "base_uri": "https://localhost:8080/",
          "height": 363
        },
        "id": "Z1oZ4mqkBtIU",
        "outputId": "42d6f9e9-b6ec-4a1c-bac2-67aacc95944e"
      },
      "source": [
        "# Sorting by type because then we could compare this df with another, so bars will have same order\n",
        "counted_mbti_types_pdf = count_class_instances(mbti_splitted_df, 'type')\n",
        "counted_mbti_types_pdf.plot.bar(x='type', y='count', figsize=(15,5), legend=False, color=plt.cm.Paired(np.arange(len(counted_mbti_types_pdf))))"
      ],
      "execution_count": null,
      "outputs": [
        {
          "output_type": "execute_result",
          "data": {
            "text/plain": [
              "<matplotlib.axes._subplots.AxesSubplot at 0x7f3095e93250>"
            ]
          },
          "metadata": {
            "tags": []
          },
          "execution_count": 10
        },
        {
          "output_type": "display_data",
          "data": {
            "image/png": "[encoded data removed]",
            "text/plain": [
              "<Figure size 1080x360 with 1 Axes>"
            ]
          },
          "metadata": {
            "tags": [],
            "needs_background": "light"
          }
        }
      ]
    },
    {
      "cell_type": "markdown",
      "metadata": {
        "id": "mc9E90RdD2tR"
      },
      "source": [
        "The first thing that *unfortunately* we can notice is that the dataset is very **unbalanced**.\n",
        "\n",
        "The most predominant types are **INxx**, which correspond to introvert personalities; this could mean that on internet (especially on forums and/or social networks) the most predominant personalities are the introvert ones, so in real world application the model could deal more frequently with **INxx** types. \n",
        "\n",
        "Another thing to notice is that **Sensing** (**xSxx**) personalities are the less frequents, and that is due to the fact that *Sensors* prefer learning information that they can tangibly apply to their lives (**short description:** they don't like too much internet). "
      ]
    },
    {
      "cell_type": "markdown",
      "metadata": {
        "id": "lFzyPTarx9aK"
      },
      "source": [
        "### Comparing dataset distribution\n",
        "Let's compare dataset distribution with real world distribution (provided [here](https://personalitymax.com/personality-types/population-gender/))"
      ]
    },
    {
      "cell_type": "code",
      "metadata": {
        "colab": {
          "base_uri": "https://localhost:8080/",
          "height": 472
        },
        "id": "IIfCoU7sxSk3",
        "outputId": "fa15d7d6-416c-45a7-8414-b09113c4da59"
      },
      "source": [
        "counted_mbti_types_pdf['count_normalized'] = counted_mbti_types_pdf['count']/counted_mbti_types_pdf['count'].sum()\n",
        "\n",
        "real_world_pdf = pd.DataFrame({\n",
        "    'type' : ['enfj', 'enfp', 'entj', 'entp', 'esfj', 'esfp', 'estj', 'estp', 'infj', 'infp', 'intj', 'intp', 'isfj', 'isfp', 'istj', 'istp'],\n",
        "    'count': [0.025, 0.081, 0.018, 0.032, 0.12, 0.085, 0.087, 0.043, 0.015, 0.044, 0.021, 0.033, 0.138, 0.088, 0.116, 0.054]\n",
        "})\n",
        "real_world_pdf.head()\n",
        "\n",
        "pd.DataFrame({\n",
        "    'type': real_world_pdf['type'],\n",
        "    'count_real_world': real_world_pdf['count'],\n",
        "    'count_mbti_dataset': counted_mbti_types_pdf['count_normalized']\n",
        "}).plot.bar(x='type', figsize=(15, 7), color=plt.cm.Paired(np.arange(len(counted_mbti_types_pdf))))"
      ],
      "execution_count": null,
      "outputs": [
        {
          "output_type": "execute_result",
          "data": {
            "text/plain": [
              "<matplotlib.axes._subplots.AxesSubplot at 0x7f30947e8d10>"
            ]
          },
          "metadata": {
            "tags": []
          },
          "execution_count": 11
        },
        {
          "output_type": "display_data",
          "data": {
            "image/png": "[encoded data removed]",
            "text/plain": [
              "<Figure size 1080x504 with 1 Axes>"
            ]
          },
          "metadata": {
            "tags": [],
            "needs_background": "light"
          }
        }
      ]
    },
    {
      "cell_type": "markdown",
      "metadata": {
        "id": "m0C8c2Qe9Ese"
      },
      "source": [
        "As we can see *\"real world\"* and *\"internet world\"* (or dataset) distributions are **very different**. Most **extroverts** are **much \"popular\"** outside internet, same thing applies for **Sensing** personalities (**xSxx**). "
      ]
    },
    {
      "cell_type": "markdown",
      "metadata": {
        "id": "UcQAccAuBzCy"
      },
      "source": [
        "## Split type in 4 indicators\n",
        "Dividing type in **4 indicators** *(\"I/E\"*, *\"N/S\"*, *\"T/F\"*, *\"P/J\"*) brings us different benefits:\n",
        "1. We can create 4 different models (one for each type indicator), so each model could be optimized for its own target (its own type indicator)\n",
        "2. We can have 4 different datasets, each one with its own different data (or features).\n",
        "3. We kinda fix \"few data\" problem for less frequent classes (e.g. *esfp*, *estj*, ..)\n",
        "\n",
        "So the idea is to have at the end 4 different **Binary Classifiers**, and then we can \"merge\" their prediction for the \"final prediction\", but also we can do prediction on only a subset of \"type indicators\"."
      ]
    },
    {
      "cell_type": "code",
      "metadata": {
        "id": "srYj2SZjB0uk"
      },
      "source": [
        "def split_type(df, typeCol='type', withDrop=False):\n",
        "  \"\"\"\n",
        "  Given a dataframe and the column containing the type of each record it splits the column \n",
        "  in 4 different columns (one for each type indicator):\n",
        "\n",
        "    1. ie: Introversion vs Extroversion\n",
        "    2. ns: Intuition vs Sensing\n",
        "    3. tf: Thinking vs Feeling\n",
        "    4. pj: Judging vs Perceiving\n",
        "  \n",
        "  It returns a pair containing:\n",
        "    1. Altered dataframe\n",
        "    2. Indicators columns list\n",
        "\n",
        "  Parameters\n",
        "  ----------\n",
        "  df : pyspark.sql.DataFrame\n",
        "      Input DataFrame which contains posts\n",
        "  typeCol : str, optional\n",
        "      Column where are listed post types. (Default value is 'type')\n",
        "  withDrop : bool, optional\n",
        "      If True drop typeCol. (Default value is False)\n",
        "  \"\"\"\n",
        "  indicators = ['ie', 'ns', 'tf', 'pj']\n",
        "  splitted_type_df = df\n",
        "  # for each indicator pick the character corresponding to the current indicator and add it to a new column\n",
        "  for i, ind in enumerate(indicators):\n",
        "    splitted_type_df = splitted_type_df.withColumn(ind, substring(typeCol, i+1, 1))\n",
        "  \n",
        "  # drop typeCol column\n",
        "  if withDrop:\n",
        "    splitted_type_df = splitted_type_df.drop(typeCol) \n",
        "  \n",
        "  return splitted_type_df, indicators"
      ],
      "execution_count": 9,
      "outputs": []
    },
    {
      "cell_type": "code",
      "metadata": {
        "colab": {
          "base_uri": "https://localhost:8080/"
        },
        "id": "1_9O9suIB2iH",
        "outputId": "60fcebec-1e55-4590-8a2e-665a549ad397"
      },
      "source": [
        "# Split type in 4 indicators\n",
        "mbti_type_splitted_df, indicators = split_type(mbti_splitted_df, withDrop=True)\n",
        "\n",
        "# mbti_type_splitted_df = mbti_type_splitted_df.cache()\n",
        "mbti_type_splitted_df.show()"
      ],
      "execution_count": 10,
      "outputs": [
        {
          "output_type": "stream",
          "text": [
            "+--------------------+---+---+---+---+\n",
            "|                post| ie| ns| tf| pj|\n",
            "+--------------------+---+---+---+---+\n",
            "|'http://www.youtu...|  i|  n|  f|  j|\n",
            "|'I'm finding the ...|  e|  n|  t|  p|\n",
            "|'Good one  _____ ...|  i|  n|  t|  p|\n",
            "|'Dear INTP,   I e...|  i|  n|  t|  j|\n",
            "|'You're fired.|||...|  e|  n|  t|  j|\n",
            "|'18/37 @.@|||Scie...|  i|  n|  t|  j|\n",
            "|'No, I can't draw...|  i|  n|  f|  j|\n",
            "|'I tend to build ...|  i|  n|  t|  j|\n",
            "|I'm not sure, tha...|  i|  n|  f|  j|\n",
            "|'https://www.yout...|  i|  n|  t|  p|\n",
            "|'One time my pare...|  i|  n|  f|  j|\n",
            "|'https://www.yout...|  e|  n|  f|  j|\n",
            "|'Joe santagato - ...|  i|  n|  f|  j|\n",
            "|'Fair enough, if ...|  i|  n|  t|  j|\n",
            "|'Basically this.....|  i|  n|  t|  p|\n",
            "|'Your comment scr...|  i|  n|  t|  p|\n",
            "|'some of these bo...|  i|  n|  f|  j|\n",
            "|'I think we do ag...|  i|  n|  f|  p|\n",
            "|'I fully believe ...|  i|  n|  f|  j|\n",
            "|'That's normal, i...|  i|  n|  f|  p|\n",
            "+--------------------+---+---+---+---+\n",
            "only showing top 20 rows\n",
            "\n"
          ],
          "name": "stdout"
        }
      ]
    },
    {
      "cell_type": "markdown",
      "metadata": {
        "id": "dAfCmyzHB4No"
      },
      "source": [
        "### Single type indicator analysis"
      ]
    },
    {
      "cell_type": "code",
      "metadata": {
        "id": "2Qyi2E2cg8KE"
      },
      "source": [
        "def plot_indicators_distribution(df):\n",
        "  fig, ax = plt.subplots(2, 2, figsize=(10, 10))\n",
        "  for ind, subplot in zip(indicators, ax.flatten()):\n",
        "    sns.histplot(df.toPandas(), x=ind, ax=subplot)"
      ],
      "execution_count": 11,
      "outputs": []
    },
    {
      "cell_type": "code",
      "metadata": {
        "colab": {
          "base_uri": "https://localhost:8080/",
          "height": 609
        },
        "id": "eh2jwY0fB48p",
        "outputId": "2f504c18-bbd9-4c26-8b36-1f98ea5f180f"
      },
      "source": [
        "plot_indicators_distribution(mbti_type_splitted_df)"
      ],
      "execution_count": null,
      "outputs": [
        {
          "output_type": "display_data",
          "data": {
            "image/png": "[encoded data removed]",
            "text/plain": [
              "<Figure size 720x720 with 4 Axes>"
            ]
          },
          "metadata": {
            "tags": [],
            "needs_background": "light"
          }
        }
      ]
    },
    {
      "cell_type": "markdown",
      "metadata": {
        "id": "Pd9qhnkEB89E"
      },
      "source": [
        "As we said before the two most unbalanced type indicators are: **\"I/E\"** and **\"N/S\"**"
      ]
    },
    {
      "cell_type": "markdown",
      "metadata": {
        "id": "Vw-JKkGHB-lG"
      },
      "source": [
        "# Reddit dataset\n",
        "\n",
        "For obtaining a model with much more \"generalization power\" and for increasing the number of data to use for training phase I decided to collect new data and I came up with this new dataset."
      ]
    },
    {
      "cell_type": "markdown",
      "metadata": {
        "id": "6JACOcLcS47-"
      },
      "source": [
        "## Single post version\n",
        "\n",
        "It's a **JSONL** dataset containing on each row:\n",
        "* **Redditor id**: post's author id\n",
        "* **Post**: contain a single post\n",
        "* **Text type**: identify if it's a \"comment\", \"title\" or a \"post\"\n",
        "* **Type**: mbti type associated to the author\n",
        "\n",
        "This dataset contains XYZ records"
      ]
    },
    {
      "cell_type": "markdown",
      "metadata": {
        "id": "P-e2TgQVS0OL"
      },
      "source": [
        "## Posts grouped by 'redditor_id'\n",
        "\n",
        "It's a **PARQUET** dataset containing on each row:\n",
        "* **Redditor id**: posts' author id\n",
        "* **Post**: Last things the author posted; each entry is separated by \"|||\" (w.r.t. Mbti dataset, posts number on each entry ranges from 50 to 100)\n",
        "* **Text type**: identify if it's a comment, title or a post\n",
        "* **Type**: as the MBTI dataset\n",
        "\n",
        "This dataset contains XYZ records"
      ]
    },
    {
      "cell_type": "markdown",
      "metadata": {
        "id": "wH_5Jza9SjBx"
      },
      "source": [
        "## How data has been collected\n",
        "\n",
        "Data has been collected on **Reddit** using a scraper created by me (code available [here](https://github.com/edu-rinaldi/MBTI-Predictor/tree/main/scraper)).\n",
        "\n",
        "First, I collected a list of users (and their personality) in 17 subreddits about MBTI (\"r/mbti\", \"r/infp\", ...); the personality information is given by a badge that is assigned to the user (**Reddit API** call it \"author flair text\").\n",
        "\n",
        "Then, I've scraped the most recent posts of each user (max. 100 for each user) on the **ENTIRE** Reddit platform, this means that I scraped also posts not related to MBTI universe.\n",
        "\n",
        "At the end for each post I assigned the badge (so the personality) related to the author."
      ]
    },
    {
      "cell_type": "markdown",
      "metadata": {
        "id": "8FYZXKl-CClT"
      },
      "source": [
        "## Downloading \"Post grouped\" dataset"
      ]
    },
    {
      "cell_type": "markdown",
      "metadata": {
        "id": "rIWPHKkpCDmu"
      },
      "source": [
        "### Databricks procedure"
      ]
    },
    {
      "cell_type": "code",
      "metadata": {
        "id": "96agYs1JCFAn"
      },
      "source": [
        "%sh wget -P /tmp https://github.com/edu-rinaldi/MBTI-Predictor/raw/main/dataset/reddit_mbti.tar.gz;\n",
        "tar xvzf /tmp/reddit_mbti.tar.gz -C /tmp/"
      ],
      "execution_count": null,
      "outputs": []
    },
    {
      "cell_type": "markdown",
      "metadata": {
        "id": "wohT7PEXCHQK"
      },
      "source": [
        "Move it to DBFS"
      ]
    },
    {
      "cell_type": "code",
      "metadata": {
        "id": "2D4yG7coCJIp"
      },
      "source": [
        "# Move it to DBFS\n",
        "dbutils.fs.mv(\"file:/tmp/reddit_mbti.parquet\", \"/FileStore/datasets/\")\n",
        "REDDIT_DATASET_PATH = \"dbfs:/FileStore/datasets/reddit_mbti.parquet\""
      ],
      "execution_count": null,
      "outputs": []
    },
    {
      "cell_type": "markdown",
      "metadata": {
        "id": "rHC-JF4kCKen"
      },
      "source": [
        "### Google Colab procedure"
      ]
    },
    {
      "cell_type": "code",
      "metadata": {
        "colab": {
          "base_uri": "https://localhost:8080/"
        },
        "id": "eIYVWc3CCLLf",
        "outputId": "f12632c2-d867-47a1-c07a-ecd8352163cd"
      },
      "source": [
        "!wget -P /content/drive/MyDrive/datasets/ https://github.com/edu-rinaldi/MBTI-Predictor/raw/main/dataset/reddit_mbti.tar.gz\n",
        "!tar xvzf /content/drive/MyDrive/datasets/reddit_mbti.tar.gz -C /content/drive/MyDrive/datasets/\n",
        "!rm /content/drive/MyDrive/datasets/reddit_mbti.tar.gz -r"
      ],
      "execution_count": null,
      "outputs": [
        {
          "output_type": "stream",
          "text": [
            "--2021-07-01 07:54:34--  https://github.com/edu-rinaldi/MBTI-Predictor/raw/main/dataset/reddit_mbti.tar.gz\n",
            "Resolving github.com (github.com)... 140.82.113.4\n",
            "Connecting to github.com (github.com)|140.82.113.4|:443... connected.\n",
            "HTTP request sent, awaiting response... 302 Found\n",
            "Location: https://raw.githubusercontent.com/edu-rinaldi/MBTI-Predictor/main/dataset/reddit_mbti.tar.gz [following]\n",
            "--2021-07-01 07:54:34--  https://raw.githubusercontent.com/edu-rinaldi/MBTI-Predictor/main/dataset/reddit_mbti.tar.gz\n",
            "Resolving raw.githubusercontent.com (raw.githubusercontent.com)... 185.199.108.133, 185.199.109.133, 185.199.110.133, ...\n",
            "Connecting to raw.githubusercontent.com (raw.githubusercontent.com)|185.199.108.133|:443... connected.\n",
            "HTTP request sent, awaiting response... 200 OK\n",
            "Length: 58116681 (55M) [application/octet-stream]\n",
            "Saving to: ‘/content/drive/MyDrive/datasets/reddit_mbti.tar.gz’\n",
            "\n",
            "reddit_mbti.tar.gz  100%[===================>]  55.42M  81.3MB/s    in 0.7s    \n",
            "\n",
            "2021-07-01 07:54:36 (81.3 MB/s) - ‘/content/drive/MyDrive/datasets/reddit_mbti.tar.gz’ saved [58116681/58116681]\n",
            "\n",
            "reddit_mbti.parquet/\n",
            "reddit_mbti.parquet/part-00000-12fd5d6d-2c7c-4d5a-9616-119a2523b83b-c000.snappy.parquet\n",
            "reddit_mbti.parquet/part-00001-6642f476-702c-49e6-8dc1-cc065ee0348f-c000.snappy.parquet\n",
            "reddit_mbti.parquet/part-00002-c47cfe27-7d70-48c5-bcb9-71743446f9b4-c000.snappy.parquet\n",
            "reddit_mbti.parquet/part-00003-22841e6f-db28-40f7-88c9-df05077744a6-c000.snappy.parquet\n",
            "reddit_mbti.parquet/part-00004-4c4bb237-c8e8-4bb8-ab04-db37f311dca2-c000.snappy.parquet\n",
            "reddit_mbti.parquet/part-00005-91f20f0c-88ec-4ef5-a8ec-a1c60119018b-c000.snappy.parquet\n",
            "reddit_mbti.parquet/part-00006-77eac3be-f146-4072-bee9-7a5ae2c3cfb3-c000.snappy.parquet\n",
            "reddit_mbti.parquet/part-00007-b540bc78-530b-41a2-9c7b-4299c88e66e5-c000.snappy.parquet\n",
            "reddit_mbti.parquet/part-00008-8964de70-0a9f-49c9-abb9-07e9b6e7f560-c000.snappy.parquet\n",
            "reddit_mbti.parquet/part-00009-0a0d096e-c87a-4ed5-860b-15ea5c33453e-c000.snappy.parquet\n",
            "reddit_mbti.parquet/part-00010-2a64720a-446c-4f8c-a4e7-4a9ff51a21fa-c000.snappy.parquet\n",
            "reddit_mbti.parquet/part-00011-b6995dcf-2d5f-4f85-9c60-38f5ff16c669-c000.snappy.parquet\n",
            "reddit_mbti.parquet/part-00012-fda8b9ac-ab28-4803-bb48-90da44c54009-c000.snappy.parquet\n",
            "reddit_mbti.parquet/part-00013-93ef1038-381f-4176-a725-5b0b2771e757-c000.snappy.parquet\n",
            "reddit_mbti.parquet/part-00014-5006441f-94ee-4387-8f2f-218a9329797c-c000.snappy.parquet\n",
            "reddit_mbti.parquet/part-00015-32f4000b-129e-4a38-a659-4f31708f4f7a-c000.snappy.parquet\n",
            "reddit_mbti.parquet/part-00016-6b4d375e-0da0-43c6-93ea-b57b4014cfa3-c000.snappy.parquet\n"
          ],
          "name": "stdout"
        }
      ]
    },
    {
      "cell_type": "code",
      "metadata": {
        "id": "hcl8VpYkCNVg"
      },
      "source": [
        "REDDIT_DATASET_PATH = \"/content/drive/MyDrive/datasets/reddit_mbti.parquet\""
      ],
      "execution_count": 12,
      "outputs": []
    },
    {
      "cell_type": "markdown",
      "metadata": {
        "id": "p8N5EcFnCO5B"
      },
      "source": [
        "## Loading dataset into a Spark DataFrame"
      ]
    },
    {
      "cell_type": "code",
      "metadata": {
        "colab": {
          "base_uri": "https://localhost:8080/"
        },
        "id": "jliK911pCRAc",
        "outputId": "6946736f-2e2e-4178-f2c0-06cfb9942e97"
      },
      "source": [
        "reddit_df = spark.read.load(REDDIT_DATASET_PATH)\n",
        "print(f\"The dataset is composed by {len(reddit_df.columns)} columns and {reddit_df.count()} records\")\n",
        "reddit_df.show()\n",
        "# reddit_grouped_df = reddit_df.groupBy('redditor_id', 'type', 'text_type').agg(count(col('redditor_id')).alias('num_post'), concat_ws(\" ||| \", collect_list(\"post\")).alias('post')).where(col('num_post') >= 50).cache()"
      ],
      "execution_count": 13,
      "outputs": [
        {
          "output_type": "stream",
          "text": [
            "The dataset is composed by 5 columns and 5754 records\n",
            "+-----------+----+---------+--------+--------------------+\n",
            "|redditor_id|type|text_type|num_post|                post|\n",
            "+-----------+----+---------+--------+--------------------+\n",
            "|     101tuq|intj|  comment|     100|Arin can fred |||...|\n",
            "|     114fsa|istp|  comment|     100|  ||| \"Are you ki...|\n",
            "|     114fsa|istp|    title|      67|Spin that wheel |...|\n",
            "|     114mu2|enfp|  comment|     100|Die nerven sich m...|\n",
            "|     116d0h|enfj|  comment|     100|I admire your abi...|\n",
            "|   11dxh05w|infp|  comment|     100|👏 but try not to...|\n",
            "|     11ghzk|isfj|  comment|     100|1: At least 4 stu...|\n",
            "|     11usaf|istp|  comment|     100|She’s clearly not...|\n",
            "|     11wn2y|infp|  comment|     100|Yeah, I don’t rea...|\n",
            "|     12bccu|entp|    title|      50|GAME ENGINE DEVEL...|\n",
            "|     12j670|entp|  comment|     100|and pink diamond ...|\n",
            "|     12ryws|entp|  comment|     100|\"Just a pam looki...|\n",
            "|     12u7ez|esfp|  comment|     100|Not gonna lie, I ...|\n",
            "|     137353|esfp|  comment|     100|What the fuck is ...|\n",
            "|     137vj7|entj|  comment|     100|Please supply mor...|\n",
            "|     13cdb4|entj|  comment|     100|Why can't you guy...|\n",
            "|     13wtt6|enfp|  comment|     100|Radio killed the ...|\n",
            "|     1487jv|intp|    title|      68|I'm actually Turb...|\n",
            "|     156bjf|infj|    title|      99|Ecuador says hack...|\n",
            "|     15jjfq|intp|  comment|     100|This applies to V...|\n",
            "+-----------+----+---------+--------+--------------------+\n",
            "only showing top 20 rows\n",
            "\n"
          ],
          "name": "stdout"
        }
      ]
    },
    {
      "cell_type": "markdown",
      "metadata": {
        "id": "JiatylDDCWb9"
      },
      "source": [
        "## Analysis"
      ]
    },
    {
      "cell_type": "markdown",
      "metadata": {
        "id": "0EKe17rPCY-n"
      },
      "source": [
        "### Counting records for each type"
      ]
    },
    {
      "cell_type": "code",
      "metadata": {
        "colab": {
          "base_uri": "https://localhost:8080/",
          "height": 363
        },
        "id": "R9fV2bJvCZV9",
        "outputId": "7d698d4f-9187-444c-abf9-b4eaf4154575"
      },
      "source": [
        "counted_reddit_types_pdf = count_class_instances(reddit_df, 'type')\n",
        "\n",
        "pd.DataFrame({\n",
        "    'mbti_dataset_count': counted_mbti_types_pdf['count'],\n",
        "    'reddit_dataset_count': counted_reddit_types_pdf['count'],\n",
        "    'type': counted_reddit_types_pdf['type']\n",
        "}).plot.bar(x='type', figsize=(15,5), color=plt.cm.Paired(np.arange(len(counted_mbti_types_pdf))))"
      ],
      "execution_count": null,
      "outputs": [
        {
          "output_type": "execute_result",
          "data": {
            "text/plain": [
              "<matplotlib.axes._subplots.AxesSubplot at 0x7f3095e65a10>"
            ]
          },
          "metadata": {
            "tags": []
          },
          "execution_count": 20
        },
        {
          "output_type": "display_data",
          "data": {
            "image/png": "[encoded data removed]",
            "text/plain": [
              "<Figure size 1080x360 with 1 Axes>"
            ]
          },
          "metadata": {
            "tags": [],
            "needs_background": "light"
          }
        }
      ]
    },
    {
      "cell_type": "markdown",
      "metadata": {
        "id": "ik52tPGiCado"
      },
      "source": [
        "As we can see type distributions are very similar, even if grouped reddit dataset is half smaller than \"MBTI dataset\"."
      ]
    },
    {
      "cell_type": "markdown",
      "metadata": {
        "id": "HLF0spfHCcQx"
      },
      "source": [
        "### Split type in 4 indicators"
      ]
    },
    {
      "cell_type": "code",
      "metadata": {
        "colab": {
          "base_uri": "https://localhost:8080/"
        },
        "id": "vRMq8Y5cCdv-",
        "outputId": "447714bf-ac5a-4dbf-d85a-eab07a04a441"
      },
      "source": [
        "reddit_splitted_df, _ = split_type(reddit_df, withDrop=True)\n",
        "reddit_splitted_df.show()"
      ],
      "execution_count": 14,
      "outputs": [
        {
          "output_type": "stream",
          "text": [
            "+-----------+---------+--------+--------------------+---+---+---+---+\n",
            "|redditor_id|text_type|num_post|                post| ie| ns| tf| pj|\n",
            "+-----------+---------+--------+--------------------+---+---+---+---+\n",
            "|     101tuq|  comment|     100|Arin can fred |||...|  i|  n|  t|  j|\n",
            "|     114fsa|  comment|     100|  ||| \"Are you ki...|  i|  s|  t|  p|\n",
            "|     114fsa|    title|      67|Spin that wheel |...|  i|  s|  t|  p|\n",
            "|     114mu2|  comment|     100|Die nerven sich m...|  e|  n|  f|  p|\n",
            "|     116d0h|  comment|     100|I admire your abi...|  e|  n|  f|  j|\n",
            "|   11dxh05w|  comment|     100|👏 but try not to...|  i|  n|  f|  p|\n",
            "|     11ghzk|  comment|     100|1: At least 4 stu...|  i|  s|  f|  j|\n",
            "|     11usaf|  comment|     100|She’s clearly not...|  i|  s|  t|  p|\n",
            "|     11wn2y|  comment|     100|Yeah, I don’t rea...|  i|  n|  f|  p|\n",
            "|     12bccu|    title|      50|GAME ENGINE DEVEL...|  e|  n|  t|  p|\n",
            "|     12j670|  comment|     100|and pink diamond ...|  e|  n|  t|  p|\n",
            "|     12ryws|  comment|     100|\"Just a pam looki...|  e|  n|  t|  p|\n",
            "|     12u7ez|  comment|     100|Not gonna lie, I ...|  e|  s|  f|  p|\n",
            "|     137353|  comment|     100|What the fuck is ...|  e|  s|  f|  p|\n",
            "|     137vj7|  comment|     100|Please supply mor...|  e|  n|  t|  j|\n",
            "|     13cdb4|  comment|     100|Why can't you guy...|  e|  n|  t|  j|\n",
            "|     13wtt6|  comment|     100|Radio killed the ...|  e|  n|  f|  p|\n",
            "|     1487jv|    title|      68|I'm actually Turb...|  i|  n|  t|  p|\n",
            "|     156bjf|    title|      99|Ecuador says hack...|  i|  n|  f|  j|\n",
            "|     15jjfq|  comment|     100|This applies to V...|  i|  n|  t|  p|\n",
            "+-----------+---------+--------+--------------------+---+---+---+---+\n",
            "only showing top 20 rows\n",
            "\n"
          ],
          "name": "stdout"
        }
      ]
    },
    {
      "cell_type": "code",
      "metadata": {
        "colab": {
          "base_uri": "https://localhost:8080/",
          "height": 606
        },
        "id": "ie6ISfURCgRT",
        "outputId": "4b538bab-8318-4d3c-d3f2-26e8f2b1740f"
      },
      "source": [
        "plot_indicators_distribution(reddit_splitted_df)"
      ],
      "execution_count": null,
      "outputs": [
        {
          "output_type": "display_data",
          "data": {
            "image/png": "[encoded data removed]",
            "text/plain": [
              "<Figure size 720x720 with 4 Axes>"
            ]
          },
          "metadata": {
            "tags": [],
            "needs_background": "light"
          }
        }
      ]
    },
    {
      "cell_type": "markdown",
      "metadata": {
        "id": "szbGmrWOXJ02"
      },
      "source": [
        "# Union of MBTI dataset and Grouped Reddit dataset\n",
        "Let's merge the two dataset and let's do some further analysis on them"
      ]
    },
    {
      "cell_type": "code",
      "metadata": {
        "colab": {
          "base_uri": "https://localhost:8080/"
        },
        "id": "OInNNoBECmK8",
        "outputId": "61bbec94-079c-4bcd-9b31-26c2deec9dc9"
      },
      "source": [
        "union_df = reddit_splitted_df.select('post', 'ie', 'ns', 'tf', 'pj').union(mbti_type_splitted_df)\n",
        "print(f\"The dataset is composed by {len(union_df.columns)} columns and {union_df.count()} records\")\n",
        "union_df.show()"
      ],
      "execution_count": 15,
      "outputs": [
        {
          "output_type": "stream",
          "text": [
            "The dataset is composed by 5 columns and 14429 records\n",
            "+--------------------+---+---+---+---+\n",
            "|                post| ie| ns| tf| pj|\n",
            "+--------------------+---+---+---+---+\n",
            "|Arin can fred |||...|  i|  n|  t|  j|\n",
            "|  ||| \"Are you ki...|  i|  s|  t|  p|\n",
            "|Spin that wheel |...|  i|  s|  t|  p|\n",
            "|Die nerven sich m...|  e|  n|  f|  p|\n",
            "|I admire your abi...|  e|  n|  f|  j|\n",
            "|👏 but try not to...|  i|  n|  f|  p|\n",
            "|1: At least 4 stu...|  i|  s|  f|  j|\n",
            "|She’s clearly not...|  i|  s|  t|  p|\n",
            "|Yeah, I don’t rea...|  i|  n|  f|  p|\n",
            "|GAME ENGINE DEVEL...|  e|  n|  t|  p|\n",
            "|and pink diamond ...|  e|  n|  t|  p|\n",
            "|\"Just a pam looki...|  e|  n|  t|  p|\n",
            "|Not gonna lie, I ...|  e|  s|  f|  p|\n",
            "|What the fuck is ...|  e|  s|  f|  p|\n",
            "|Please supply mor...|  e|  n|  t|  j|\n",
            "|Why can't you guy...|  e|  n|  t|  j|\n",
            "|Radio killed the ...|  e|  n|  f|  p|\n",
            "|I'm actually Turb...|  i|  n|  t|  p|\n",
            "|Ecuador says hack...|  i|  n|  f|  j|\n",
            "|This applies to V...|  i|  n|  t|  p|\n",
            "+--------------------+---+---+---+---+\n",
            "only showing top 20 rows\n",
            "\n"
          ],
          "name": "stdout"
        }
      ]
    },
    {
      "cell_type": "code",
      "metadata": {
        "id": "OLytNyZMYBoG",
        "colab": {
          "base_uri": "https://localhost:8080/",
          "height": 606
        },
        "outputId": "6022e8c2-7c30-45da-d9cc-b376784e2d87"
      },
      "source": [
        "plot_indicators_distribution(union_df)"
      ],
      "execution_count": null,
      "outputs": [
        {
          "output_type": "display_data",
          "data": {
            "image/png": "[encoded data removed]",
            "text/plain": [
              "<Figure size 720x720 with 4 Axes>"
            ]
          },
          "metadata": {
            "tags": [],
            "needs_background": "light"
          }
        }
      ]
    },
    {
      "cell_type": "markdown",
      "metadata": {
        "id": "ILap7cJ7ChYf"
      },
      "source": [
        "# Data/Text cleaning\n",
        "Before creating a balanced dataset let's first clean them (some records will be removed, so it's better to balance after)"
      ]
    },
    {
      "cell_type": "markdown",
      "metadata": {
        "id": "zpJWQBuUClaH"
      },
      "source": [
        "## Cleaning MBTI dataset"
      ]
    },
    {
      "cell_type": "code",
      "metadata": {
        "id": "_LPLvTaxCq4Y"
      },
      "source": [
        "def save_model(model, name):\n",
        "  import datetime\n",
        "  path = PRETRAINED_MODELS_PATH + name + f'_{datetime.datetime.now().strftime(\"%Y%m%d%H%M\")}'\n",
        "  print(f'Saving the model at this path: {path}')\n",
        "  model.write().overwrite().save(path)"
      ],
      "execution_count": 18,
      "outputs": []
    },
    {
      "cell_type": "code",
      "metadata": {
        "id": "8GOX88KQCoNZ"
      },
      "source": [
        "def text_cleaning_pipeline(df, inputCol='post', outputCol='terms', saveModel=False):\n",
        "  \n",
        "  normalization_patterns = [\n",
        "    '(https?:\\/\\/(?:www\\.|(?!www))[a-zA-Z0-9][a-zA-Z0-9-]+[a-zA-Z0-9]\\.[^\\s]{2,}|www\\.[a-zA-Z0-9]' + \\\n",
        "    '[a-zA-Z0-9-]+[a-zA-Z0-9]\\.[^\\s]{2,}|https?:\\/\\/(?:www\\.|(?!www))[a-zA-Z0-9]+\\.[^\\s]{2,}|www\\.[a-zA-Z0-9]+\\.[^\\s]{2,})', # url\n",
        "    ':\\)|:-\\)|:\\(|:-\\(|;\\);-\\)|:-O|8-|:P|:D|:\\||:S|:\\$|:@|8o\\||\\+o\\(|\\(H\\)|\\(C\\)|\\(\\?\\)', #emoticons\n",
        "    '(\\[removed\\])',  # removed reddit instance\n",
        "    '[^A-Za-z]',\n",
        "    '([ieIE])([nsNS])([tfTF])([pjPJ])', # remove mbti words\n",
        "    '([a-z])\\1{2,}[\\s|\\w]*' # remove consecutive single chars\n",
        "  ]\n",
        "  \n",
        "  documentAssembler = DocumentAssembler()\\\n",
        "    .setInputCol(inputCol)\\\n",
        "    .setOutputCol('document')\\\n",
        "    #.setCleanupMode(\"shrink_full\")\n",
        "  \n",
        "  tokenizer = Tokenizer() \\\n",
        "    .setInputCols(['document']) \\\n",
        "    .setOutputCol('token')\n",
        "  \n",
        "  normalizer = Normalizer() \\\n",
        "    .setInputCols(['token']) \\\n",
        "    .setOutputCol('normalized')\\\n",
        "    .setLowercase(True)\\\n",
        "    .setCleanupPatterns(normalization_patterns) # remove punctuations (keep alphanumeric chars)\n",
        "    # if we don't set CleanupPatterns, it will only keep alphabet letters ([^A-Za-z])\n",
        "  \n",
        "  lemmatizer = LemmatizerModel.pretrained() \\\n",
        "    .setInputCols(['normalized']) \\\n",
        "    .setOutputCol('lemma') \\\n",
        "    #.setDictionary(\"dbfs:/bdc-2020-21/lemmatizer_files/lemmas.txt\", value_delimiter =\"\\t\", key_delimiter = \"->\")\n",
        "  \n",
        "  stopwords_cleaner = StopWordsCleaner().pretrained('stopwords_en', 'en')\\\n",
        "      .setInputCols('lemma')\\\n",
        "      .setOutputCol('cleanLemma_1')\\\n",
        "      .setCaseSensitive(False)\n",
        "\n",
        "  second_stopwords_cleaner = StopWordsCleaner()\\\n",
        "      .setInputCols('cleanLemma_1')\\\n",
        "      .setOutputCol('cleanLemma_2')\\\n",
        "      .setCaseSensitive(False)\\\n",
        "      .setStopWords(['isnt', 'dont', 'ive', 'im', 'arent', 'doesnt', 'havent', 'youre'])\n",
        "  \n",
        "  finisher = Finisher() \\\n",
        "    .setInputCols(['cleanLemma_2']) \\\n",
        "    .setOutputCols([outputCol]) \\\n",
        "    .setIncludeMetadata(False)\n",
        "  \n",
        "  pipeline_stages = [\n",
        "    documentAssembler,\n",
        "    tokenizer,\n",
        "    normalizer,\n",
        "    lemmatizer,\n",
        "    stopwords_cleaner,\n",
        "    second_stopwords_cleaner,\n",
        "    finisher\n",
        "  ]\n",
        "\n",
        "  tc_pipeline_model = Pipeline(stages=pipeline_stages).fit(df)\n",
        "\n",
        "  if saveModel:\n",
        "    save_model(tc_pipeline_model, 'tc_pipeline')\n",
        "\n",
        "  return tc_pipeline_model"
      ],
      "execution_count": 155,
      "outputs": []
    },
    {
      "cell_type": "code",
      "metadata": {
        "colab": {
          "base_uri": "https://localhost:8080/"
        },
        "id": "8So07A_CCpuE",
        "outputId": "454f9dec-dd53-4a16-d944-883f9f559fe9"
      },
      "source": [
        "# train/test splitting\n",
        "train_df, test_df = union_df.randomSplit([0.7, 0.3])\n",
        "train_df = train_df.cache()\n",
        "test_df = test_df.cache()\n",
        "\n",
        "# tc_pipeline will be used for cleaning and splitting in terms posts\n",
        "if USE_PRETRAINED_TC_PIPELINE:\n",
        "  print(f'Using pretrained text cleaning pipeline model: {PRETRAINED_TC_PIPELINE_NAME}')\n",
        "  tc_pipeline = PipelineModel.load(PRETRAINED_MODELS_PATH+PRETRAINED_TC_PIPELINE_NAME)\n",
        "else:\n",
        "  print('Fitting new text cleaning pipeline')\n",
        "  tc_pipeline = text_cleaning_pipeline(train_df, saveModel=True)\n",
        "\n",
        "clean_train_df = tc_pipeline.transform(train_df)\n",
        "clean_test_df = tc_pipeline.transform(test_df)"
      ],
      "execution_count": 158,
      "outputs": [
        {
          "output_type": "stream",
          "text": [
            "Using pretrained text cleaning pipeline model: tc_pipeline_202107041409\n"
          ],
          "name": "stdout"
        }
      ]
    },
    {
      "cell_type": "code",
      "metadata": {
        "id": "kdNNxoMUCsG3"
      },
      "source": [
        "def feature_extraction_pipeline(df,\n",
        "                                termsCol='terms',\n",
        "                                outputCVFeaturesCol='cv_features',\n",
        "                                cvVocabSize=262144,\n",
        "                                outputIdfFeaturesCol='idf_features',\n",
        "                                outputPCAFeaturesCol='pca_features',\n",
        "                                pcaK=100,\n",
        "                                cvMinDF=0.01,\n",
        "                                indicatorsCols=['ie','ns','tf','pj'],\n",
        "                                pretrainedName='',\n",
        "                                saveModel=False):\n",
        "  from pyspark.ml.feature import CountVectorizer, IDF, PCA, StringIndexer\n",
        "  from pyspark.ml import Pipeline, PipelineModel\n",
        "  \n",
        "  if pretrainedName != '':\n",
        "    pipeline_model = PipelineModel.load(PRETRAINED_MODELS_PATH+pretrainedName)\n",
        "    print(f'Using a pretrained pipeline model saved at this path: {pretrainedName}')\n",
        "  else:\n",
        "    print('Creating a new pipeline model')\n",
        "    cv = CountVectorizer(inputCol=termsCol, outputCol=outputCVFeaturesCol, minDF=cvMinDF, vocabSize=cvVocabSize)\n",
        "    idf = IDF(inputCol=outputCVFeaturesCol, outputCol=outputIdfFeaturesCol)\n",
        "    pca = PCA(k=100, inputCol=outputIdfFeaturesCol, outputCol=outputPCAFeaturesCol)\n",
        "    string_indexers = [StringIndexer(inputCol=ind, outputCol=f\"idx_{ind}\") for ind in indicators]\n",
        "    stages = [cv, idf] + ([pca] if pcaK > 0 else []) + string_indexers\n",
        "    pipeline_model = Pipeline(stages=stages).fit(df)\n",
        "    print('Fitting the new pipeline model')\n",
        "  \n",
        "  if saveModel:\n",
        "    tmp_pca_str = f'pca{pcaK}_' if pcaK > 0 else ''\n",
        "    save_path = f'cv{cvMinDF}_idf_{tmp_pca_str}'\n",
        "    save_model(pipeline_model, save_path)\n",
        "  \n",
        "  return pipeline_model"
      ],
      "execution_count": 153,
      "outputs": []
    },
    {
      "cell_type": "code",
      "metadata": {
        "colab": {
          "base_uri": "https://localhost:8080/"
        },
        "id": "5HNbn-N3Ctch",
        "outputId": "ecde8f92-f986-4f4f-d651-05efe196f6d0"
      },
      "source": [
        "fe_pipeline = feature_extraction_pipeline(clean_train_df, pretrainedName=PRETRAINED_FE_PIPELINE_NAME if USE_PRETRAINED_FE_PIPELINE else '')\n",
        "labels = [fe_pipeline.stages[3+i].labels for i, ind in enumerate(indicators)]\n",
        "\n",
        "fe_pipeline.transform(clean_train_df).show()"
      ],
      "execution_count": 20,
      "outputs": [
        {
          "output_type": "stream",
          "text": [
            "Using a pretrained pipeline model saved at this path: cv0.01_idf_pca100_202106291739\n",
            "+--------------------+---+---+---+---+--------------------+--------------------+--------------------+--------------------+------+------+------+------+\n",
            "|                post| ie| ns| tf| pj|               terms|         cv_features|        idf_features|        pca_features|idx_ie|idx_ns|idx_tf|idx_pj|\n",
            "+--------------------+---+---+---+---+--------------------+--------------------+--------------------+--------------------+------+------+------+------+\n",
            "|\n",
            "\n",
            "-I love it how ...|  i|  n|  t|  j|[love, officially...|(5305,[0,1,2,3,4,...|(5305,[0,1,2,3,4,...|[-0.0312529531246...|   0.0|   0.0|   0.0|   1.0|\n",
            "|\n",
            "I just moved int...|  i|  n|  t|  j|[move, apartment,...|(5305,[0,1,2,3,4,...|(5305,[0,1,2,3,4,...|[-0.0047364548986...|   0.0|   0.0|   0.0|   1.0|\n",
            "|  ||| \"Are you ki...|  i|  s|  t|  p|[kid, work, day, ...|(5305,[0,1,3,4,5,...|(5305,[0,1,3,4,5,...|[-0.0117535358123...|   0.0|   1.0|   0.0|   0.0|\n",
            "| \"riding things\" ...|  i|  s|  t|  p|[ride, thing, lma...|(5305,[0,1,2,3,4,...|(5305,[0,1,2,3,4,...|[0.00350266780176...|   0.0|   1.0|   0.0|   0.0|\n",
            "| Not that chick w...|  e|  n|  f|  p|[chick, hold, han...|(5305,[0,1,2,3,4,...|(5305,[0,1,2,3,4,...|[0.00733139615229...|   1.0|   0.0|   1.0|   0.0|\n",
            "|\" you usless piec...|  i|  n|  f|  j|[usless, piece, p...|(5305,[0,1,2,3,4,...|(5305,[0,1,2,3,4,...|[-0.0022860434536...|   0.0|   0.0|   1.0|   1.0|\n",
            "|\"Everyone is invi...|  i|  s|  t|  p|[invite, suspicio...|(5305,[0,1,2,3,4,...|(5305,[0,1,2,3,4,...|[-0.0083081859882...|   0.0|   1.0|   0.0|   0.0|\n",
            "|\"Here i sit and h...|  e|  n|  t|  p|[sit, hesitate, s...|(5305,[0,1,2,3,4,...|(5305,[0,1,2,3,4,...|[-0.0352458435843...|   1.0|   0.0|   0.0|   0.0|\n",
            "|\"I'm fucking dumb...|  i|  n|  t|  p|[fucking, dumb, f...|(5305,[0,1,2,3,4,...|(5305,[0,1,2,3,4,...|[-0.0123180618326...|   0.0|   0.0|   0.0|   0.0|\n",
            "|\"IATA for telling...|  i|  n|  t|  j|[iata, family, di...|(5305,[0,1,2,3,4,...|(5305,[0,1,2,3,4,...|[0.00497129849020...|   0.0|   0.0|   0.0|   1.0|\n",
            "|\"IS THAT MY WIFE ...|  i|  n|  f|  p|[wife, unborn, ch...|(5305,[0,1,2,3,4,...|(5305,[0,1,2,3,4,...|[-0.0083671737734...|   0.0|   0.0|   1.0|   0.0|\n",
            "|\"Just a pam looki...|  e|  n|  t|  p|[pam, jim, kill, ...|(5305,[0,1,2,3,4,...|(5305,[0,1,2,3,4,...|[-0.0107220521594...|   1.0|   0.0|   0.0|   0.0|\n",
            "|\"People who brag ...|  e|  n|  t|  j|[people, brag, iq...|(5305,[0,1,2,3,4,...|(5305,[0,1,2,3,4,...|[-0.0080233310225...|   1.0|   0.0|   0.0|   1.0|\n",
            "|\"THEN YOU DON'T H...|  i|  n|  t|  p|[anymore, love, w...|(5305,[0,1,2,3,5,...|(5305,[0,1,2,3,5,...|[-0.0024496689927...|   0.0|   0.0|   0.0|   0.0|\n",
            "|\"Things my INTJ b...|  i|  n|  t|  j|[thing, boyfriend...|(5305,[0,1,2,3,4,...|(5305,[0,1,2,3,4,...|[-0.0732683829102...|   0.0|   0.0|   0.0|   1.0|\n",
            "|\"We put the FUN i...|  e|  s|  t|  p|[put, fun, dysfun...|(5305,[0,1,2,3,4,...|(5305,[0,1,2,3,4,...|[-0.0285399999459...|   1.0|   1.0|   0.0|   0.0|\n",
            "|\"You had ONE JOB!...|  i|  n|  f|  p|[job, sqa, exam, ...|(5305,[0,1,2,3,4,...|(5305,[0,1,2,3,4,...|[-2.8365038884261...|   0.0|   0.0|   1.0|   0.0|\n",
            "|\"i beg ur differ\"...|  i|  n|  f|  j|[beg, ur, differ,...|(5305,[0,1,2,3,4,...|(5305,[0,1,2,3,4,...|[-0.0043176482735...|   0.0|   0.0|   1.0|   1.0|\n",
            "|\"sensor trash\" ||...|  i|  n|  f|  p|[sensor, trash, g...|(5305,[0,1,2,3,4,...|(5305,[0,1,2,3,4,...|[-0.0123334109735...|   0.0|   0.0|   1.0|   0.0|\n",
            "|\"ugh, someone mak...|  i|  n|  t|  p|[ugh, make, stupi...|(5305,[0,1,2,3,4,...|(5305,[0,1,2,3,4,...|[0.00552077245867...|   0.0|   0.0|   0.0|   0.0|\n",
            "+--------------------+---+---+---+---+--------------------+--------------------+--------------------+--------------------+------+------+------+------+\n",
            "only showing top 20 rows\n",
            "\n"
          ],
          "name": "stdout"
        }
      ]
    },
    {
      "cell_type": "code",
      "metadata": {
        "colab": {
          "base_uri": "https://localhost:8080/",
          "height": 282
        },
        "id": "QfVYF54UCvRx",
        "outputId": "8d00c3db-c555-4379-c79d-2dbb5c857c12"
      },
      "source": [
        "# Explained Variance by PCA (from ~20 not so much variance)\n",
        "plt.plot(fe_pipeline.stages[2].explainedVariance)"
      ],
      "execution_count": null,
      "outputs": [
        {
          "output_type": "execute_result",
          "data": {
            "text/plain": [
              "[<matplotlib.lines.Line2D at 0x7fbc7e213d10>]"
            ]
          },
          "metadata": {
            "tags": []
          },
          "execution_count": 22
        },
        {
          "output_type": "display_data",
          "data": {
            "image/png": "[encoded data removed]",
            "text/plain": [
              "<Figure size 432x288 with 1 Axes>"
            ]
          },
          "metadata": {
            "tags": [],
            "needs_background": "light"
          }
        }
      ]
    },
    {
      "cell_type": "code",
      "metadata": {
        "id": "FDm5lSj3Cwbf"
      },
      "source": [
        "final_train_df = fe_pipeline.transform(clean_train_df).cache()\n",
        "final_test_df = fe_pipeline.transform(clean_test_df).cache()"
      ],
      "execution_count": 21,
      "outputs": []
    },
    {
      "cell_type": "code",
      "metadata": {
        "id": "Dz-BwcvZCx-5"
      },
      "source": [
        "def ml_pipeline(df,\n",
        "                trainingAlgorithm,\n",
        "                paramGrid,\n",
        "                evaluator,\n",
        "                labels,\n",
        "                kFold=4,\n",
        "                featuresCol='features',\n",
        "                indexedTargetCol='idx_target',\n",
        "                predictionCol='prediction',\n",
        "                rawPredictionCol='rawPrediction',\n",
        "                labeledPredictionCol='labeled_prediction', \n",
        "                metricName='f1'):\n",
        "  \n",
        "  from pyspark.ml.feature import IndexToString\n",
        "  from pyspark.ml.tuning import CrossValidator\n",
        "  from pyspark.ml import Pipeline\n",
        "  \n",
        "  trainingAlgorithm = trainingAlgorithm.setFeaturesCol(featuresCol).setLabelCol(indexedTargetCol).setPredictionCol(predictionCol).setRawPredictionCol(rawPredictionCol)\n",
        "  \n",
        "  idx2str = IndexToString(inputCol=predictionCol,\n",
        "                          outputCol=labeledPredictionCol,\n",
        "                          labels=labels)\n",
        "  \n",
        "  ml_pipeline = Pipeline(stages=[trainingAlgorithm, idx2str])\n",
        "  \n",
        "  evaluator = evaluator.setLabelCol(indexedTargetCol).setPredictionCol(predictionCol).setMetricName(metricName)\n",
        "  \n",
        "  return CrossValidator(estimator=ml_pipeline, estimatorParamMaps=paramGrid, evaluator=evaluator, numFolds=kFold, collectSubModels=True).fit(df)"
      ],
      "execution_count": 22,
      "outputs": []
    },
    {
      "cell_type": "code",
      "metadata": {
        "id": "RgNDIo8vGqJV"
      },
      "source": [
        "best_models = {ind:{} for ind in indicators}"
      ],
      "execution_count": 48,
      "outputs": []
    },
    {
      "cell_type": "markdown",
      "metadata": {
        "id": "lZws0ugHzr_o"
      },
      "source": [
        "# Naive Bayes Classifier"
      ]
    },
    {
      "cell_type": "code",
      "metadata": {
        "id": "wyWc-bK31CCp"
      },
      "source": [
        "def nb_model_tuning(df,\n",
        "                    labels,\n",
        "                    kFold=4,\n",
        "                    allowed_indicators=['ie', 'ns', 'tf', 'pj'],\n",
        "                    featuresCol='features',\n",
        "                    saveModel=True):\n",
        "  \n",
        "  from pyspark.ml.tuning import ParamGridBuilder, CrossValidatorModel\n",
        "  from pyspark.ml.classification import NaiveBayes\n",
        "  from pyspark.ml.evaluation import MulticlassClassificationEvaluator\n",
        "\n",
        "  best_nb_models = dict()\n",
        "\n",
        "  for i, ind in enumerate(allowed_indicators):\n",
        "    print(f'Finding best NB model for {ind} type indicator..\\n')\n",
        "    nb_classifier = NaiveBayes()\n",
        "    nb_param_grid = ParamGridBuilder().addGrid(nb_classifier.modelType, ['multinomial', 'gaussian']).build()\n",
        "    nb_evaluator = MulticlassClassificationEvaluator()\n",
        "    cv_model = ml_pipeline(final_train_df,\n",
        "                           nb_classifier,\n",
        "                           nb_param_grid,\n",
        "                           nb_evaluator,\n",
        "                           labels[i],\n",
        "                           featuresCol=featuresCol,\n",
        "                           indexedTargetCol=f'idx_{ind}', \n",
        "                           predictionCol=f'{ind}_pred',\n",
        "                           rawPredictionCol=f'{ind}_raw_pred',\n",
        "                           labeledPredictionCol=f'{ind}_labeled_pred',\n",
        "                           kFold=kFold)\n",
        "    best_nb_models[ind] = cv_model.bestModel    \n",
        "    if saveModel:\n",
        "      import builtins\n",
        "      save_model(best_nb_models[ind], f'nb_{ind}_modelType{best_nb_models[ind].stages[0].getModelType()}')\n",
        "\n",
        "    print(f'Best nb {ind} model has type {best_nb_models[ind].stages[0].getModelType()}\\n')\n",
        "\n",
        "  return best_nb_models"
      ],
      "execution_count": 24,
      "outputs": []
    },
    {
      "cell_type": "code",
      "metadata": {
        "colab": {
          "base_uri": "https://localhost:8080/"
        },
        "id": "h_TWnkZv6k4K",
        "outputId": "22d1b931-df1c-4a87-f4ea-ca30a2dacc23"
      },
      "source": [
        "from pyspark.ml.evaluation import MulticlassClassificationEvaluator\n",
        "\n",
        "if USE_PRETRAINED_ML_PIPELINE:\n",
        "  print(\"Loading pretrained NB pipeline\")\n",
        "  tmp = {ind: PipelineModel.load(PRETRAINED_MODELS_PATH+name) for ind, name in PRETRAINED_NB_PIPELINE_NAMES.items()}\n",
        "else:\n",
        "  tmp = nb_model_tuning(final_train_df, labels, featuresCol='idf_features')\n",
        "\n",
        "for ind in indicators:\n",
        "  evaluator = MulticlassClassificationEvaluator(predictionCol=f'{ind}_pred', labelCol=f'idx_{ind}', metricName='f1')\n",
        "  best_models[ind]['nb'] = (tmp[ind], evaluator.evaluate(tmp[ind].transform(final_test_df)))\n",
        "\n",
        "pprint(best_models)"
      ],
      "execution_count": 49,
      "outputs": [
        {
          "output_type": "stream",
          "text": [
            "Loading pretrained NB pipeline\n"
          ],
          "name": "stdout"
        },
        {
          "output_type": "execute_result",
          "data": {
            "text/plain": [
              "{'ie': {'nb': (PipelineModel_d63f43b02ed4, 0.719864776814669)},\n",
              " 'ns': {'nb': (PipelineModel_ed93fdb8001d, 0.7772313730481906)},\n",
              " 'pj': {'nb': (PipelineModel_58af196f2fba, 0.6666928564595915)},\n",
              " 'tf': {'nb': (PipelineModel_1f0328671510, 0.7351065178889857)}}"
            ]
          },
          "metadata": {
            "tags": []
          },
          "execution_count": 49
        }
      ]
    },
    {
      "cell_type": "markdown",
      "metadata": {
        "id": "7L8Xk4TRzyDY"
      },
      "source": [
        "# Linear SVC"
      ]
    },
    {
      "cell_type": "code",
      "metadata": {
        "id": "gohB-sSdATol"
      },
      "source": [
        "def svc_model_tuning(df,\n",
        "                     labels,\n",
        "                     kFold=4,\n",
        "                     allowed_indicators=['ie', 'ns', 'tf', 'pj'],\n",
        "                     featuresCol='features',\n",
        "                     saveModel=True):\n",
        "  \n",
        "  from pyspark.ml.tuning import ParamGridBuilder, CrossValidatorModel\n",
        "  from pyspark.ml.classification import LinearSVC\n",
        "  from pyspark.ml.evaluation import MulticlassClassificationEvaluator\n",
        "\n",
        "  best_svc_models = dict()\n",
        "\n",
        "  for i, ind in enumerate(allowed_indicators):\n",
        "    print(f'Finding best SVC model for {ind} type indicator..\\n')\n",
        "    svc_classifier = LinearSVC()\n",
        "    svc_param_grid = ParamGridBuilder().addGrid(svc_classifier.maxIter, [10, 100]) \\\n",
        "    .addGrid(svc_classifier.regParam, [1, 0.5, 0.1, 0.01, 0.001, 0.0001]).build()\n",
        "    \n",
        "    svc_evaluator = MulticlassClassificationEvaluator()\n",
        "    cv_model = ml_pipeline(final_train_df,\n",
        "                           svc_classifier,\n",
        "                           svc_param_grid,\n",
        "                           svc_evaluator,\n",
        "                           labels[i],\n",
        "                           featuresCol=featuresCol,\n",
        "                           indexedTargetCol=f'idx_{ind}',\n",
        "                           predictionCol=f'{ind}_pred',\n",
        "                           rawPredictionCol=f'{ind}_raw_pred',\n",
        "                           labeledPredictionCol=f'{ind}_labeled_pred',\n",
        "                           kFold=kFold)\n",
        "\n",
        "    best_svc_models[ind] = cv_model.bestModel\n",
        "    \n",
        "    if saveModel:\n",
        "      import builtins\n",
        "      save_model(best_svc_models[ind], f'svc_{ind}_maxIter{best_svc_models[ind].stages[0].getMaxIter()}_regParam{best_svc_models[ind].stages[0].getRegParam()}')\n",
        "    \n",
        "    print(f'Best svc {ind} model has parameters:\\n\\t - maxIter: {best_svc_models[ind].stages[0].getMaxIter()}\\n\\t - regParam: {best_svc_models[ind].stages[0].getRegParam()}\\n')\n",
        "  \n",
        "  return best_svc_models"
      ],
      "execution_count": 26,
      "outputs": []
    },
    {
      "cell_type": "code",
      "metadata": {
        "id": "68tcYgXyC0VC",
        "colab": {
          "base_uri": "https://localhost:8080/"
        },
        "outputId": "1eb84ddb-1578-494f-ed7e-c53fb3e26c9e"
      },
      "source": [
        "if USE_PRETRAINED_ML_PIPELINE:\n",
        "  print(\"Loading pretrained SVC pipeline\")\n",
        "  tmp = {ind: PipelineModel.load(PRETRAINED_MODELS_PATH+name) for ind, name in PRETRAINED_SVC_PIPELINE_NAMES.items()}\n",
        "else:\n",
        "  tmp = svc_model_tuning(final_train_df, labels, featuresCol='pca_features')\n",
        "\n",
        "for ind in indicators:\n",
        "  evaluator = MulticlassClassificationEvaluator(predictionCol=f'{ind}_pred', labelCol=f'idx_{ind}', metricName='f1')\n",
        "  best_models[ind]['svc'] = (tmp[ind], evaluator.evaluate(tmp[ind].transform(final_test_df)))\n",
        "\n",
        "pprint(best_models)"
      ],
      "execution_count": 50,
      "outputs": [
        {
          "output_type": "stream",
          "text": [
            "Loading pretrained SVC pipeline\n"
          ],
          "name": "stdout"
        },
        {
          "output_type": "execute_result",
          "data": {
            "text/plain": [
              "{'ie': {'nb': (PipelineModel_d63f43b02ed4, 0.719864776814669),\n",
              "  'svc': (PipelineModel_59bff8ef4426, 0.6075519108373931)},\n",
              " 'ns': {'nb': (PipelineModel_ed93fdb8001d, 0.7772313730481906),\n",
              "  'svc': (PipelineModel_cef483fee89b, 0.7429296873908131)},\n",
              " 'pj': {'nb': (PipelineModel_58af196f2fba, 0.6666928564595915),\n",
              "  'svc': (PipelineModel_129dd968e4f7, 0.517500964281906)},\n",
              " 'tf': {'nb': (PipelineModel_1f0328671510, 0.7351065178889857),\n",
              "  'svc': (PipelineModel_af4274f256f5, 0.7316229167621461)}}"
            ]
          },
          "metadata": {
            "tags": []
          },
          "execution_count": 50
        }
      ]
    },
    {
      "cell_type": "markdown",
      "metadata": {
        "id": "JwIRQJB0z6Xk"
      },
      "source": [
        "# Logistic Regression"
      ]
    },
    {
      "cell_type": "code",
      "metadata": {
        "id": "2VwzsZoLIed5"
      },
      "source": [
        "def lr_model_tuning(df,\n",
        "                    labels,\n",
        "                    kFold=4,\n",
        "                    allowed_indicators=['ie', 'ns', 'tf', 'pj'],\n",
        "                    featuresCol='features',\n",
        "                    saveModel=True):\n",
        "  \n",
        "  from pyspark.ml.tuning import ParamGridBuilder, CrossValidatorModel\n",
        "  from pyspark.ml.classification import LogisticRegression\n",
        "  from pyspark.ml.evaluation import MulticlassClassificationEvaluator\n",
        "\n",
        "  best_lr_models = dict()\n",
        "  for i, ind in enumerate(allowed_indicators):\n",
        "    print(f'Finding best LR model for {ind} type indicator..\\n')\n",
        "    lr_classifier = LogisticRegression(probabilityCol=f'{ind}_p')\n",
        "    lr_param_grid = ParamGridBuilder().addGrid(lr_classifier.maxIter, [10, 100]) \\\n",
        "    .addGrid(lr_classifier.regParam, [0.05, 0.01, 0.001, 0.0005, 0.0001]) \\\n",
        "    .addGrid(lr_classifier.elasticNetParam, [0.0, 0.25, 0.5]).build()\n",
        "    \n",
        "    lr_evaluator = MulticlassClassificationEvaluator()\n",
        "    cv_model = ml_pipeline(final_train_df,\n",
        "                           lr_classifier,\n",
        "                           lr_param_grid,\n",
        "                           lr_evaluator,\n",
        "                           labels[i],\n",
        "                           featuresCol=featuresCol,\n",
        "                           indexedTargetCol=f'idx_{ind}',\n",
        "                           predictionCol=f'{ind}_pred',\n",
        "                           rawPredictionCol=f'{ind}_raw_pred',\n",
        "                           labeledPredictionCol=f'{ind}_labeled_pred',\n",
        "                           kFold=kFold)\n",
        "\n",
        "\n",
        "    best_lr_models[ind] = cv_model.bestModel\n",
        "    \n",
        "    if saveModel:\n",
        "      import builtins\n",
        "      save_model(best_lr_models[ind], f'cv_lr_{ind}_maxIter{best_lr_models[ind].stages[0].getMaxIter()}_regParam{best_lr_models[ind].stages[0].getRegParam()}_elasticNetParam{best_lr_models[ind].stages[0].getElasticNetParam()}')\n",
        "      \n",
        "    print(f'Best LR {ind} model has parameters:\\n\\t - maxIter: {best_lr_models[ind].stages[0].getMaxIter()}\\n\\t - regParam: {best_lr_models[ind].stages[0].getRegParam()}\\n\\t - elasticNetParam: {best_lr_models[ind].stages[0].getElasticNetParam()}\\n')\n",
        "  return best_lr_models"
      ],
      "execution_count": 28,
      "outputs": []
    },
    {
      "cell_type": "code",
      "metadata": {
        "id": "S2Q4VIRKDLu8",
        "colab": {
          "base_uri": "https://localhost:8080/"
        },
        "outputId": "4bf6b08d-6b9a-4547-8ada-131d428fca32"
      },
      "source": [
        "if USE_PRETRAINED_ML_PIPELINE:\n",
        "  print(\"Loading pretrained LR pipeline\")\n",
        "  tmp = {ind: PipelineModel.load(PRETRAINED_MODELS_PATH+name) for ind, name in PRETRAINED_LR_PIPELINE_NAMES.items()}\n",
        "else:\n",
        "  tmp = lr_model_tuning(final_train_df, labels, featuresCol='pca_features')\n",
        "\n",
        "for ind in indicators:\n",
        "  evaluator = MulticlassClassificationEvaluator(predictionCol=f'{ind}_pred', labelCol=f'idx_{ind}', metricName='f1')\n",
        "  best_models[ind]['lr'] = (tmp[ind], evaluator.evaluate(tmp[ind].transform(final_test_df)))\n",
        "\n",
        "pprint(best_models)"
      ],
      "execution_count": 51,
      "outputs": [
        {
          "output_type": "stream",
          "text": [
            "Loading pretrained LR pipeline\n"
          ],
          "name": "stdout"
        },
        {
          "output_type": "execute_result",
          "data": {
            "text/plain": [
              "{'ie': {'lr': (PipelineModel_5b7ccb054f11, 0.6486812664082684),\n",
              "  'nb': (PipelineModel_d63f43b02ed4, 0.719864776814669),\n",
              "  'svc': (PipelineModel_59bff8ef4426, 0.6075519108373931)},\n",
              " 'ns': {'lr': (PipelineModel_797bed824b69, 0.7613852560290469),\n",
              "  'nb': (PipelineModel_ed93fdb8001d, 0.7772313730481906),\n",
              "  'svc': (PipelineModel_cef483fee89b, 0.7429296873908131)},\n",
              " 'pj': {'lr': (PipelineModel_848a3bad8cbc, 0.5708854010865502),\n",
              "  'nb': (PipelineModel_58af196f2fba, 0.6666928564595915),\n",
              "  'svc': (PipelineModel_129dd968e4f7, 0.517500964281906)},\n",
              " 'tf': {'lr': (PipelineModel_a522529c3398, 0.7320387225322149),\n",
              "  'nb': (PipelineModel_1f0328671510, 0.7351065178889857),\n",
              "  'svc': (PipelineModel_af4274f256f5, 0.7316229167621461)}}"
            ]
          },
          "metadata": {
            "tags": []
          },
          "execution_count": 51
        }
      ]
    },
    {
      "cell_type": "markdown",
      "metadata": {
        "id": "8D3PzgW4z-V3"
      },
      "source": [
        "# MLP"
      ]
    },
    {
      "cell_type": "code",
      "metadata": {
        "id": "03yFmRqU6-2H"
      },
      "source": [
        "def nn_model_tuning(df,\n",
        "                    labels,\n",
        "                    kFold=4,\n",
        "                    allowed_indicators=['ie', 'ns', 'tf', 'pj'],\n",
        "                    featuresCol='features',\n",
        "                    inputLayerSize=128,\n",
        "                    pretrainedNames={},\n",
        "                    saveModel=True):\n",
        "  \n",
        "  from pyspark.ml.tuning import ParamGridBuilder\n",
        "  from pyspark.ml.classification import MultilayerPerceptronClassifier\n",
        "  from pyspark.ml.tuning import CrossValidatorModel\n",
        "  from pyspark.ml.evaluation import MulticlassClassificationEvaluator\n",
        "\n",
        "  NN_LAYERS = [\n",
        "               [inputLayerSize, 32, 16, 2],\n",
        "               [inputLayerSize, inputLayerSize*2, inputLayerSize*2, inputLayerSize, 32, 16, 2],\n",
        "               # [inputLayerSize, inputLayerSize*3, inputLayerSize*2, 2]\n",
        "               ]\n",
        "\n",
        "  best_nn_models = dict()\n",
        "  for i, ind in enumerate(allowed_indicators):\n",
        "    print(f'Finding best NN model for {ind} type indicator..\\n')\n",
        "    nn_classifier = MultilayerPerceptronClassifier(probabilityCol=f'{ind}_p')\n",
        "    nn_param_grid = ParamGridBuilder().addGrid(nn_classifier.maxIter, [10, 100]) \\\n",
        "    .addGrid(nn_classifier.stepSize, [0.03, 0.01, 0.001]) \\\n",
        "    .addGrid(nn_classifier.solver, ['gd', 'l-bfgs']) \\\n",
        "    .addGrid(nn_classifier.layers, NN_LAYERS).build()\n",
        "    \n",
        "    nn_evaluator = MulticlassClassificationEvaluator()\n",
        "    cv_model = ml_pipeline(final_train_df,\n",
        "                           nn_classifier,\n",
        "                           nn_param_grid,\n",
        "                           nn_evaluator,\n",
        "                           labels[i],\n",
        "                           featuresCol=featuresCol,\n",
        "                           indexedTargetCol=f'idx_{ind}',\n",
        "                           predictionCol=f'{ind}_pred',\n",
        "                           rawPredictionCol=f'{ind}_raw_pred',\n",
        "                           labeledPredictionCol=f'{ind}_labeled_pred',\n",
        "                           kFold=kFold)\n",
        "\n",
        "    best_nn_models[ind] = cv_model.bestModel\n",
        "    if saveModel:\n",
        "      import builtins\n",
        "      save_model(best_nn_models[ind], f'nn_{ind}_maxIter{best_nn_models[ind].stages[0].getMaxIter()}_stepSize{best_nn_models[ind].stages[0].getStepSize()}_solver{best_nn_models[ind].stages[0].getSolver()}')\n",
        "    \n",
        "    print(f'Best NN {ind} model has parameters:\\n\\t'+ \\\n",
        "        f' - maxIter: {best_nn_models[ind].stages[0].getMaxIter()}\\n\\t'+ \\\n",
        "        f' - stepSize: {best_nn_models[ind].stages[0].getStepSize()}\\n\\t'+ \\\n",
        "        f' - solver: {best_nn_models[ind].stages[0].getSolver()}\\n\\t'+ \\\n",
        "        f' - layers: {best_nn_models[ind].stages[0].getLayers()}\\n')\n",
        "  return best_nn_models"
      ],
      "execution_count": 30,
      "outputs": []
    },
    {
      "cell_type": "code",
      "metadata": {
        "id": "rLacnKQL_yGR",
        "colab": {
          "base_uri": "https://localhost:8080/"
        },
        "outputId": "c674f4b9-4f71-4fcf-9bd4-91fd31f9b593"
      },
      "source": [
        "from pyspark.ml.evaluation import MulticlassClassificationEvaluator\n",
        "if USE_PRETRAINED_ML_PIPELINE:\n",
        "  print(\"Loading pretrained NN pipeline\")\n",
        "  tmp = {ind: PipelineModel.load(PRETRAINED_MODELS_PATH+name) for ind, name in PRETRAINED_NN_PIPELINE_NAMES.items()}\n",
        "else:\n",
        "  tmp = nn_model_tuning(final_train_df, labels, featuresCol='pca_features', inputLayerSize=100)\n",
        "\n",
        "for ind in indicators:\n",
        "  evaluator = MulticlassClassificationEvaluator(predictionCol=f'{ind}_pred', labelCol=f'idx_{ind}', metricName='f1')\n",
        "  best_models[ind]['nn'] = (tmp[ind], evaluator.evaluate(tmp[ind].transform(final_test_df)))\n",
        "\n",
        "pprint(best_models)"
      ],
      "execution_count": 52,
      "outputs": [
        {
          "output_type": "stream",
          "text": [
            "Loading pretrained NN pipeline\n"
          ],
          "name": "stdout"
        },
        {
          "output_type": "execute_result",
          "data": {
            "text/plain": [
              "{'ie': {'lr': (PipelineModel_5b7ccb054f11, 0.6486812664082684),\n",
              "  'nb': (PipelineModel_d63f43b02ed4, 0.719864776814669),\n",
              "  'nn': (PipelineModel_a968a6bb2050, 0.7235216640689741),\n",
              "  'svc': (PipelineModel_59bff8ef4426, 0.6075519108373931)},\n",
              " 'ns': {'lr': (PipelineModel_797bed824b69, 0.7613852560290469),\n",
              "  'nb': (PipelineModel_ed93fdb8001d, 0.7772313730481906),\n",
              "  'nn': (PipelineModel_56434233d098, 0.8409627311804302),\n",
              "  'svc': (PipelineModel_cef483fee89b, 0.7429296873908131)},\n",
              " 'pj': {'lr': (PipelineModel_848a3bad8cbc, 0.5708854010865502),\n",
              "  'nb': (PipelineModel_58af196f2fba, 0.6666928564595915),\n",
              "  'nn': (PipelineModel_2cb6410bbcb3, 0.7165511258027906),\n",
              "  'svc': (PipelineModel_129dd968e4f7, 0.517500964281906)},\n",
              " 'tf': {'lr': (PipelineModel_a522529c3398, 0.7320387225322149),\n",
              "  'nb': (PipelineModel_1f0328671510, 0.7351065178889857),\n",
              "  'nn': (PipelineModel_10034260e868, 0.6880388699784412),\n",
              "  'svc': (PipelineModel_af4274f256f5, 0.7316229167621461)}}"
            ]
          },
          "metadata": {
            "tags": []
          },
          "execution_count": 52
        }
      ]
    },
    {
      "cell_type": "markdown",
      "metadata": {
        "id": "xsAMgePlxqpL"
      },
      "source": [
        "# Pick best models"
      ]
    },
    {
      "cell_type": "code",
      "metadata": {
        "id": "JZ-W-N_rAtFv",
        "colab": {
          "base_uri": "https://localhost:8080/"
        },
        "outputId": "ae1c1976-8e91-4a47-c617-f429dd5ec95a"
      },
      "source": [
        "from pyspark.ml.evaluation import MulticlassClassificationEvaluator\n",
        "\n",
        "final_models = dict()\n",
        "for ind in indicators:\n",
        "  best_score = 0\n",
        "  best_model_type = -1\n",
        "  for model_type, (model, score) in best_models[ind].items():\n",
        "    if best_score < score:\n",
        "      best_score = score\n",
        "      best_model_type = model_type\n",
        "    print(f'Model {model_type} score = {score}')\n",
        "  final_models[ind] = best_models[ind][best_model_type][0]\n",
        "  print(f'Best {ind} model is {best_model_type} with score = {best_score}\\n')\n",
        "  \n",
        "\n",
        "pprint(final_models)"
      ],
      "execution_count": 150,
      "outputs": [
        {
          "output_type": "stream",
          "text": [
            "Model nb score = 0.719864776814669\n",
            "Model svc score = 0.6075519108373931\n",
            "Model lr score = 0.6486812664082684\n",
            "Model nn score = 0.7235216640689741\n",
            "Best ie model is nn with score = 0.7235216640689741\n",
            "\n",
            "Model nb score = 0.7772313730481906\n",
            "Model svc score = 0.7429296873908131\n",
            "Model lr score = 0.7613852560290469\n",
            "Model nn score = 0.8409627311804302\n",
            "Best ns model is nn with score = 0.8409627311804302\n",
            "\n",
            "Model nb score = 0.7351065178889857\n",
            "Model svc score = 0.7316229167621461\n",
            "Model lr score = 0.7320387225322149\n",
            "Model nn score = 0.6880388699784412\n",
            "Best tf model is nb with score = 0.7351065178889857\n",
            "\n",
            "Model nb score = 0.6666928564595915\n",
            "Model svc score = 0.517500964281906\n",
            "Model lr score = 0.5708854010865502\n",
            "Model nn score = 0.7165511258027906\n",
            "Best pj model is nn with score = 0.7165511258027906\n",
            "\n",
            "{'ie': PipelineModel_a968a6bb2050,\n",
            " 'ns': PipelineModel_56434233d098,\n",
            " 'pj': PipelineModel_2cb6410bbcb3,\n",
            " 'tf': PipelineModel_1f0328671510}\n"
          ],
          "name": "stdout"
        }
      ]
    },
    {
      "cell_type": "code",
      "metadata": {
        "id": "udJYwo4jcpWQ"
      },
      "source": [
        "def merge_models(models, saveMergedModel=False, nameMergedModel=''):\n",
        "  print(models)\n",
        "  stages = []\n",
        "  for model in models:\n",
        "    stages += model.stages\n",
        "  merged_model = PipelineModel(stages=stages)\n",
        "  print(merged_model)\n",
        "  # save merged model\n",
        "  if saveMergedModel:\n",
        "    model_name = 'model' if nameMergedModel == '' else nameMergedModel\n",
        "    save_model(merged_model, model_name)\n",
        "  \n",
        "  return merged_model"
      ],
      "execution_count": 54,
      "outputs": []
    },
    {
      "cell_type": "code",
      "metadata": {
        "colab": {
          "base_uri": "https://localhost:8080/"
        },
        "id": "y5c0gA5Og0pe",
        "outputId": "14ba7741-f3f0-4507-dcb2-f121e9d81c85"
      },
      "source": [
        "if USE_PRETRAINED_FINAL_PIPELINE:\n",
        "  print('Using a pretrained final model')\n",
        "  final_model = PipelineModel.load(PRETRAINED_MODELS_PATH+PRETRAINED_FINAL_PIPELINE)\n",
        "else:\n",
        "  print('Merging tc/fe/ml pipelines')\n",
        "  final_model = merge_models([tc_pipeline, fe_pipeline] + [final_models[ind] for ind in indicators], saveMergedModel=True, nameMergedModel='final_pipeline')\n",
        "\n",
        "print('Final model stages:')\n",
        "pprint(final_model.stages)"
      ],
      "execution_count": 141,
      "outputs": [
        {
          "output_type": "stream",
          "text": [
            "Using a pretrained final model\n",
            "Final model stages:\n",
            "[DocumentAssembler_639e26a38c11,\n",
            " REGEX_TOKENIZER_acbcdd8e77a6,\n",
            " NORMALIZER_8489caeff015,\n",
            " LEMMATIZER_c62ad8f355f9,\n",
            " STOPWORDS_CLEANER_3e62acb2648b,\n",
            " StopWordsCleaner_a22e6a4e3599,\n",
            " Finisher_74c55ed604b5,\n",
            " CountVectorizerModel: uid=CountVectorizer_74311f5a9216, vocabularySize=5305,\n",
            " IDFModel: uid=IDF_8542f318e886, numDocs=10097, numFeatures=5305,\n",
            " PCAModel: uid=PCA_0152f2d93653, k=100,\n",
            " StringIndexerModel: uid=StringIndexer_317a7e640ccc, handleInvalid=error,\n",
            " StringIndexerModel: uid=StringIndexer_f6c7a2bbee12, handleInvalid=error,\n",
            " StringIndexerModel: uid=StringIndexer_88a49382b8d1, handleInvalid=error,\n",
            " StringIndexerModel: uid=StringIndexer_4858f2712183, handleInvalid=error,\n",
            " MultilayerPerceptronClassificationModel: uid=MultilayerPerceptronClassifier_ebd506023d8f, numLayers=7, numClasses=2, numFeatures=100,\n",
            " IndexToString_8d485bd6f691,\n",
            " MultilayerPerceptronClassificationModel: uid=MultilayerPerceptronClassifier_9c5d7f70fdcd, numLayers=7, numClasses=2, numFeatures=100,\n",
            " IndexToString_0102d629fe64,\n",
            " NaiveBayesModel: uid=NaiveBayes_353186e99a41, modelType=multinomial, numClasses=2, numFeatures=5305,\n",
            " IndexToString_d8cf6a208f34,\n",
            " MultilayerPerceptronClassificationModel: uid=MultilayerPerceptronClassifier_aec6b3cd90e3, numLayers=7, numClasses=2, numFeatures=100,\n",
            " IndexToString_0c185074aa42]\n"
          ],
          "name": "stdout"
        }
      ]
    },
    {
      "cell_type": "markdown",
      "metadata": {
        "id": "O4QedXEkOsUH"
      },
      "source": [
        "# Predicting from twitter users posts"
      ]
    },
    {
      "cell_type": "code",
      "metadata": {
        "id": "AFgCA9QrxzAs"
      },
      "source": [
        "class MBTIPredictor:\n",
        "  def __init__(self, model_path):\n",
        "    self.model = PipelineModel.load(model_path)\n",
        "  \n",
        "  def predict(self, *text : str):\n",
        "    text_df = spark.createDataFrame(list(text), StringType()).withColumnRenamed('value', 'post')\n",
        "    return self.model.transform(text_df)\n",
        "\n",
        "class TwitterMBTIPredictor(MBTIPredictor):\n",
        "  def __init__(self, model_path, consumer_key, consumer_secret):\n",
        "    super().__init__(model_path)\n",
        "    self.auth = tweepy.OAuthHandler(consumer_key, consumer_secret)\n",
        "    self.api = tweepy.API(self.auth)\n",
        "\n",
        "  def predict(self, users, num_of_posts=50):\n",
        "    tweets = []\n",
        "    for user in users:\n",
        "      tweets += [\" ||| \".join([tweet.text for tweet in self.api.user_timeline(screen_name=user, count=num_of_posts)])]\n",
        "    return super().predict(*tweets)"
      ],
      "execution_count": 134,
      "outputs": []
    },
    {
      "cell_type": "code",
      "metadata": {
        "id": "ro3aBUznurGl"
      },
      "source": [
        "twitter_predictor = TwitterMBTIPredictor('/content/drive/MyDrive/PretrainedModels/final_pipeline_202107041304', \n",
        "                                         os.getenv('CONSUMER_KEY'), \n",
        "                                         os.getenv('CONSUMER_SECRET'))"
      ],
      "execution_count": 135,
      "outputs": []
    },
    {
      "cell_type": "code",
      "metadata": {
        "colab": {
          "base_uri": "https://localhost:8080/"
        },
        "id": "E8XhJQznvFE9",
        "outputId": "99a21430-cbbb-44ff-a610-b05ba89565d2"
      },
      "source": [
        "twitter_users = ['BarackObama', 'BillGates', 'ConanOBrien']\n",
        "twitter_predictor.predict(users=twitter_users) \\\n",
        ".select('post', 'terms','ie_labeled_pred', 'ns_labeled_pred', 'tf_labeled_pred', 'pj_labeled_pred') \\\n",
        ".show()"
      ],
      "execution_count": 149,
      "outputs": [
        {
          "output_type": "stream",
          "text": [
            "+--------------------+--------------------+---------------+---------------+---------------+---------------+\n",
            "|                post|               terms|ie_labeled_pred|ns_labeled_pred|tf_labeled_pred|pj_labeled_pred|\n",
            "+--------------------+--------------------+---------------+---------------+---------------+---------------+\n",
            "|Happy Fourth of J...|[happy, fourth, j...|              i|              n|              f|              p|\n",
            "|Stopping Alzheime...|[stop, alzheimers...|              i|              n|              t|              j|\n",
            "|I’m going to quit...|[quit, day, drink...|              i|              n|              t|              p|\n",
            "+--------------------+--------------------+---------------+---------------+---------------+---------------+\n",
            "\n"
          ],
          "name": "stdout"
        }
      ]
    },
    {
      "cell_type": "markdown",
      "metadata": {
        "id": "62GZxJR635-L"
      },
      "source": [
        "# Another approach: single post prediction"
      ]
    },
    {
      "cell_type": "code",
      "metadata": {
        "id": "_6d5l3HUP1Fg"
      },
      "source": [
        "\"\"\" \n",
        "THINGS TO DO TOMORROW:\n",
        "  1) union_df.split ==> saved version (parquet file)\n",
        "  2) train FE again with PCA K=100\n",
        "  3) train NB and NN\n",
        "  4) show results\n",
        "OTHERS:\n",
        "  1) Create an evaluate_model(..) function that print [accuracy, f1, precision, recall]\n",
        "  2) Use evaluate_model(..) on the collection of posts approach\n",
        "  3) Try to simplify training code\n",
        "  4) Pretrained models and datasets must be downloadable from the project\n",
        "  5) Slides\n",
        "  6) Increase number of users for twitters prediction\n",
        "\"\"\""
      ],
      "execution_count": null,
      "outputs": []
    },
    {
      "cell_type": "code",
      "metadata": {
        "id": "vS8pDTBM9d0F"
      },
      "source": [
        "PRETRAINED_MODELS_PATH = '/content/drive/MyDrive/PretrainedModels/' if USING_COLAB else 'dbfs:/FileStore/PretrainedModels/'\n",
        "\n",
        "# Text cleaning pipeline model\n",
        "USE_PRETRAINED_TC_PIPELINE = True\n",
        "PRETRAINED_TC_PIPELINE_NAME = 'tc_pipeline_202107041448'\n",
        "\n",
        "# Feature Extraction Pipeline Model\n",
        "USE_PRETRAINED_FE_PIPELINE = True\n",
        "PRETRAINED_FE_PIPELINE_NAME = 'cv1_idf__202107041540'\n",
        "\n",
        "# ML Pipeline Models\n",
        "USE_PRETRAINED_ML_PIPELINE = True\n",
        "# Naive Bayes\n",
        "PRETRAINED_NB_PIPELINE_NAMES = {\n",
        "    'ie': 'nb_ie_modelTypemultinomial_202107031037',\n",
        "    'ns': 'nb_ns_modelTypemultinomial_202107031037',\n",
        "    'tf': 'nb_tf_modelTypemultinomial_202107031037',\n",
        "    'pj': 'nb_pj_modelTypemultinomial_202107031037'\n",
        "}\n",
        "# Linear SVC\n",
        "PRETRAINED_SVC_PIPELINE_NAMES = {\n",
        "    'ie': 'svc_ie_maxIter10_regParam0.0001_202107031050',\n",
        "    'ns': 'svc_ns_maxIter10_regParam0.0001_202107031102',\n",
        "    'tf': 'svc_tf_maxIter10_regParam0.0001_202107031114',\n",
        "    'pj': 'svc_pj_maxIter10_regParam0.0001_202107031126'\n",
        "}\n",
        "# Logistic Regression\n",
        "PRETRAINED_LR_PIPELINE_NAMES = {\n",
        "    'ie': 'lr_ie_maxIter10_regParam0.0001_elasticNetParam0.0_202107031200',\n",
        "    'ns': 'lr_ns_maxIter10_regParam0.0001_elasticNetParam0.25_202107031215',\n",
        "    'tf': 'lr_tf_maxIter100_regParam0.01_elasticNetParam0.0_202107031229',\n",
        "    'pj': 'lr_pj_maxIter100_regParam0.0001_elasticNetParam0.0_202107031244'\n",
        "}\n",
        "# Neural Network\n",
        "PRETRAINED_NN_PIPELINE_NAMES = {\n",
        "    'ie': 'nn_ie_maxIter100_stepSize0.001_solverl-bfgs_202107040909',\n",
        "    'ns': 'nn_ns_maxIter100_stepSize0.001_solverl-bfgs_202107040933',\n",
        "    'tf': 'nn_tf_maxIter10_stepSize0.03_solverl-bfgs_202107040957',\n",
        "    'pj': 'nn_pj_maxIter100_stepSize0.01_solverl-bfgs_202107041020'\n",
        "}\n",
        "\n",
        "# Final model\n",
        "USE_PRETRAINED_FINAL_PIPELINE = True\n",
        "PRETRAINED_FINAL_PIPELINE = 'final_pipeline_202107041304'"
      ],
      "execution_count": 171,
      "outputs": []
    },
    {
      "cell_type": "code",
      "metadata": {
        "colab": {
          "base_uri": "https://localhost:8080/"
        },
        "id": "MWMFcXFP4Auq",
        "outputId": "4c4d14da-90e7-4d6a-da05-89983734cd45"
      },
      "source": [
        "single_post_df = union_df.withColumn('post', explode(split(\"post\", \"\\|\\|\\|\")))\n",
        "print(f'Now we have a new dataset with {single_post_df.columns} columns and {single_post_df.count()} records')\n",
        "single_post_df.show()"
      ],
      "execution_count": 152,
      "outputs": [
        {
          "output_type": "stream",
          "text": [
            "Now we have a new dataset with ['post', 'ie', 'ns', 'tf', 'pj'] columns and 951629 records\n",
            "+--------------------+---+---+---+---+\n",
            "|                post| ie| ns| tf| pj|\n",
            "+--------------------+---+---+---+---+\n",
            "|      Arin can fred |  i|  n|  t|  j|\n",
            "| You know, it's f...|  i|  n|  t|  j|\n",
            "| Meanwhile I'm dy...|  i|  n|  t|  j|\n",
            "| Especially with ...|  i|  n|  t|  j|\n",
            "| What? Is this a ...|  i|  n|  t|  j|\n",
            "| Ja, og de var va...|  i|  n|  t|  j|\n",
            "| Norwegian here. ...|  i|  n|  t|  j|\n",
            "| I love it. Can't...|  i|  n|  t|  j|\n",
            "|             Whohoo |  i|  n|  t|  j|\n",
            "| ISTJ - Accountin...|  i|  n|  t|  j|\n",
            "| I think ISTJ's b...|  i|  n|  t|  j|\n",
            "| I think the most...|  i|  n|  t|  j|\n",
            "| All talks machin...|  i|  n|  t|  j|\n",
            "| Well of course D...|  i|  n|  t|  j|\n",
            "| The fact that Ar...|  i|  n|  t|  j|\n",
            "| Now we finally h...|  i|  n|  t|  j|\n",
            "| I'm just pulling...|  i|  n|  t|  j|\n",
            "| Holy fuck man, I...|  i|  n|  t|  j|\n",
            "| ISTJ's normaly w...|  i|  n|  t|  j|\n",
            "| I saw Edguy in s...|  i|  n|  t|  j|\n",
            "+--------------------+---+---+---+---+\n",
            "only showing top 20 rows\n",
            "\n"
          ],
          "name": "stdout"
        }
      ]
    },
    {
      "cell_type": "code",
      "metadata": {
        "id": "87dC1Bsm7V8U"
      },
      "source": [
        "train_df, test_df = single_post_df.randomSplit([0.7, 0.3])"
      ],
      "execution_count": 160,
      "outputs": []
    },
    {
      "cell_type": "code",
      "metadata": {
        "colab": {
          "base_uri": "https://localhost:8080/"
        },
        "id": "pVqAo-Cc7-Hr",
        "outputId": "1cf8c05b-8cf2-4ec8-d57e-ec678fc338cc"
      },
      "source": [
        "if USE_PRETRAINED_TC_PIPELINE:\n",
        "  tc_pipeline = PipelineModel.load(PRETRAINED_MODELS_PATH+PRETRAINED_TC_PIPELINE_NAME)\n",
        "else:\n",
        "  tc_pipeline = text_cleaning_pipeline(train_df, saveModel=True)"
      ],
      "execution_count": 161,
      "outputs": [
        {
          "output_type": "stream",
          "text": [
            "lemma_antbnc download started this may take some time.\n",
            "Approximate size to download 907.6 KB\n",
            "[OK!]\n",
            "stopwords_en download started this may take some time.\n",
            "Approximate size to download 2.9 KB\n",
            "[OK!]\n",
            "Saving the model at this path: /content/drive/MyDrive/PretrainedModels/tc_pipeline_202107041448\n"
          ],
          "name": "stdout"
        }
      ]
    },
    {
      "cell_type": "code",
      "metadata": {
        "id": "UvdqrNYUAJMl"
      },
      "source": [
        "clean_train_df = tc_pipeline.transform(train_df).where(size('terms') >= 10)\n",
        "clean_test_df = tc_pipeline.transform(test_df)"
      ],
      "execution_count": 167,
      "outputs": []
    },
    {
      "cell_type": "code",
      "metadata": {
        "colab": {
          "base_uri": "https://localhost:8080/"
        },
        "id": "3rJUQ3zN8bsF",
        "outputId": "cd2a89a0-1e5f-4d28-adea-d501c8feae98"
      },
      "source": [
        "if USE_PRETRAINED_FE_PIPELINE:\n",
        "  fe_pipeline = PipelineModel.load(PRETRAINED_MODELS_PATH+PRETRAINED_FE_PIPELINE_NAME)\n",
        "else: \n",
        "  fe_pipeline = feature_extraction_pipeline(clean_train_df, pcaK=0, cvMinDF=1, saveModel=True)"
      ],
      "execution_count": 168,
      "outputs": [
        {
          "output_type": "stream",
          "text": [
            "Creating a new pipeline model\n",
            "Fitting the new pipeline model\n",
            "Saving the model at this path: /content/drive/MyDrive/PretrainedModels/cv1_idf__202107041540\n"
          ],
          "name": "stdout"
        }
      ]
    },
    {
      "cell_type": "code",
      "metadata": {
        "id": "zi2U7AtrATfC"
      },
      "source": [
        "fe_train_df = fe_pipeline.transform(clean_train_df).cache()\n",
        "fe_test_df = fe_pipeline.transform(clean_test_df).cache()\n",
        "fe_train_df.show()"
      ],
      "execution_count": null,
      "outputs": []
    },
    {
      "cell_type": "code",
      "metadata": {
        "id": "nPb9Oqy9L215"
      },
      "source": [
        "from pyspark.ml.evaluation import MulticlassClassificationEvaluator\n",
        "labels = [fe_pipeline.stages[2+i].labels for i, ind in enumerate(indicators)]\n",
        "nb_model = nb_model_tuning(fe_train_df, labels, featuresCol='idf_features')\n",
        "\n",
        "for ind in indicators:\n",
        "  evaluator = MulticlassClassificationEvaluator(predictionCol=f'{ind}_pred', labelCol=f'idx_{ind}', metricName='f1')\n",
        "  print(f'{ind} score = {evaluator.evaluate(nb_model.transform(fe_test_df))}')"
      ],
      "execution_count": null,
      "outputs": []
    }
  ]
}